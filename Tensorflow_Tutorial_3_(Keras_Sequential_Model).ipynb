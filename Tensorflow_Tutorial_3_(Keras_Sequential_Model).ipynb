{
  "nbformat": 4,
  "nbformat_minor": 0,
  "metadata": {
    "colab": {
      "name": "Tensorflow Tutorial - 3 (Keras Sequential Model).ipynb",
      "provenance": [],
      "collapsed_sections": [],
      "authorship_tag": "ABX9TyM7Hd/wm6MwyZq2PDCWOWh8",
      "include_colab_link": true
    },
    "kernelspec": {
      "name": "python3",
      "display_name": "Python 3"
    }
  },
  "cells": [
    {
      "cell_type": "markdown",
      "metadata": {
        "id": "view-in-github",
        "colab_type": "text"
      },
      "source": [
        "<a href=\"https://colab.research.google.com/github/mayankcircle/Tensorflow-2.0/blob/main/Tensorflow_Tutorial_3_(Keras_Sequential_Model).ipynb\" target=\"_parent\"><img src=\"https://colab.research.google.com/assets/colab-badge.svg\" alt=\"Open In Colab\"/></a>"
      ]
    },
    {
      "cell_type": "markdown",
      "metadata": {
        "id": "16rhwCrjbrgT"
      },
      "source": [
        "Required Libraries"
      ]
    },
    {
      "cell_type": "code",
      "metadata": {
        "id": "C3z4A1z7cKWc"
      },
      "source": [
        "import tensorflow as tf\n",
        "\n",
        "from tensorflow import keras\n",
        "from tensorflow.keras import layers\n",
        "from tensorflow.keras.datasets import mnist"
      ],
      "execution_count": 6,
      "outputs": []
    },
    {
      "cell_type": "code",
      "metadata": {
        "id": "zbAVua9ocLIw",
        "outputId": "bad78123-8f32-4794-8e37-861184c4a5e7",
        "colab": {
          "base_uri": "https://localhost:8080/",
          "height": 35
        }
      },
      "source": [
        "tf.__version__"
      ],
      "execution_count": 7,
      "outputs": [
        {
          "output_type": "execute_result",
          "data": {
            "application/vnd.google.colaboratory.intrinsic+json": {
              "type": "string"
            },
            "text/plain": [
              "'2.3.0'"
            ]
          },
          "metadata": {
            "tags": []
          },
          "execution_count": 7
        }
      ]
    },
    {
      "cell_type": "markdown",
      "metadata": {
        "id": "9iqaQUJIcYVp"
      },
      "source": [
        "# Load MNIST Dataset"
      ]
    },
    {
      "cell_type": "code",
      "metadata": {
        "id": "XhxAEyCDcXp-"
      },
      "source": [
        "(X_train,y_train),(X_test,y_test) = mnist.load_data()"
      ],
      "execution_count": 10,
      "outputs": []
    },
    {
      "cell_type": "code",
      "metadata": {
        "id": "MG6P8l8GiU_t",
        "outputId": "321b429b-f036-4700-9c52-3ec6f3305c3b",
        "colab": {
          "base_uri": "https://localhost:8080/",
          "height": 34
        }
      },
      "source": [
        "# classees\n",
        "set(y_train)"
      ],
      "execution_count": 24,
      "outputs": [
        {
          "output_type": "execute_result",
          "data": {
            "text/plain": [
              "{0, 1, 2, 3, 4, 5, 6, 7, 8, 9}"
            ]
          },
          "metadata": {
            "tags": []
          },
          "execution_count": 24
        }
      ]
    },
    {
      "cell_type": "code",
      "metadata": {
        "id": "gxfNtZ_Db-ts",
        "outputId": "712364e3-1abf-4fe6-b321-677198061ef5",
        "colab": {
          "base_uri": "https://localhost:8080/",
          "height": 34
        }
      },
      "source": [
        "X_train.shape # we have 60000 gray-scale images (only one channel) of size 28 x 28 in train data"
      ],
      "execution_count": 11,
      "outputs": [
        {
          "output_type": "execute_result",
          "data": {
            "text/plain": [
              "(60000, 28, 28)"
            ]
          },
          "metadata": {
            "tags": []
          },
          "execution_count": 11
        }
      ]
    },
    {
      "cell_type": "code",
      "metadata": {
        "id": "Zvb_7NgveAwo",
        "outputId": "7fd1c7f3-f64b-4359-dded-8522dd8de1d2",
        "colab": {
          "base_uri": "https://localhost:8080/",
          "height": 34
        }
      },
      "source": [
        "# faltten out the images\n",
        "X_train = X_train.reshape(-1,28*28)\n",
        "X_train.shape"
      ],
      "execution_count": 12,
      "outputs": [
        {
          "output_type": "execute_result",
          "data": {
            "text/plain": [
              "(60000, 784)"
            ]
          },
          "metadata": {
            "tags": []
          },
          "execution_count": 12
        }
      ]
    },
    {
      "cell_type": "code",
      "metadata": {
        "id": "aizMG8PDeaBU",
        "outputId": "8d7b20ee-30ad-430e-c70e-bd6b0ca5e136",
        "colab": {
          "base_uri": "https://localhost:8080/",
          "height": 34
        }
      },
      "source": [
        "X_train.dtype # data type is int 8 bit so possible values will be from 0 to 255"
      ],
      "execution_count": 15,
      "outputs": [
        {
          "output_type": "execute_result",
          "data": {
            "text/plain": [
              "dtype('uint8')"
            ]
          },
          "metadata": {
            "tags": []
          },
          "execution_count": 15
        }
      ]
    },
    {
      "cell_type": "code",
      "metadata": {
        "id": "q_TI5DVte5Kw",
        "outputId": "77a5ee3b-d3b0-4b69-cbc5-3d82ceaffdd9",
        "colab": {
          "base_uri": "https://localhost:8080/",
          "height": 34
        }
      },
      "source": [
        "# we can change the data type to float32 and normalize the values to have 0 to 1 for fast training\n",
        "X_train = X_train.astype(\"float32\") / 255.0\n",
        "X_train.dtype"
      ],
      "execution_count": 17,
      "outputs": [
        {
          "output_type": "execute_result",
          "data": {
            "text/plain": [
              "dtype('float32')"
            ]
          },
          "metadata": {
            "tags": []
          },
          "execution_count": 17
        }
      ]
    },
    {
      "cell_type": "code",
      "metadata": {
        "id": "EGlA46xBfRQh",
        "outputId": "a0e5ac41-b25c-41ec-ee30-a271b115f380",
        "colab": {
          "base_uri": "https://localhost:8080/",
          "height": 34
        }
      },
      "source": [
        "# We also do the same for X_test (test data)\n",
        "X_test = X_test.reshape(-1,28*28).astype(\"float32\")/255.0\n",
        "X_test.shape"
      ],
      "execution_count": 18,
      "outputs": [
        {
          "output_type": "execute_result",
          "data": {
            "text/plain": [
              "(10000, 784)"
            ]
          },
          "metadata": {
            "tags": []
          },
          "execution_count": 18
        }
      ]
    },
    {
      "cell_type": "code",
      "metadata": {
        "id": "3GMtwOBEfrOU"
      },
      "source": [
        "# OPTIONAL : Convert numpy array to Tensorflow Tensor\n",
        "# Though Conversion from Numpy array to TEnsor will be done internally automatically by tensorflow, we can also achieve this by-\n",
        "X_train = tf.convert_to_tensor(X_train)\n",
        "X_test = tf.convert_to_tensor(X_test)"
      ],
      "execution_count": null,
      "outputs": []
    },
    {
      "cell_type": "markdown",
      "metadata": {
        "id": "W-f9iA-CgZeQ"
      },
      "source": [
        "# Build Basic Neural Network"
      ]
    },
    {
      "cell_type": "code",
      "metadata": {
        "id": "BKLxAntQgTWc"
      },
      "source": [
        "model = keras.Sequential(\n",
        "    [\n",
        "     keras.Input(shape=(28*28)),\n",
        "     layers.Dense(512, activation = \"relu\"),\n",
        "     layers.Dense(256, activation = \"relu\"),\n",
        "     layers.Dense(10)\n",
        "    ]\n",
        ")"
      ],
      "execution_count": 34,
      "outputs": []
    },
    {
      "cell_type": "markdown",
      "metadata": {
        "id": "kdyF5UHohHIm"
      },
      "source": [
        "We are not applying Softmax in output layer of Neural Network because Softmax will be done from the Loss Function. So we raw Logits into that."
      ]
    },
    {
      "cell_type": "code",
      "metadata": {
        "id": "aL3Wp79Jnahx",
        "outputId": "68ac381a-f251-453f-abdb-0ad13fdc196a",
        "colab": {
          "base_uri": "https://localhost:8080/",
          "height": 265
        }
      },
      "source": [
        "model.summary()"
      ],
      "execution_count": 35,
      "outputs": [
        {
          "output_type": "stream",
          "text": [
            "Model: \"sequential_1\"\n",
            "_________________________________________________________________\n",
            "Layer (type)                 Output Shape              Param #   \n",
            "=================================================================\n",
            "dense_3 (Dense)              (None, 512)               401920    \n",
            "_________________________________________________________________\n",
            "dense_4 (Dense)              (None, 256)               131328    \n",
            "_________________________________________________________________\n",
            "dense_5 (Dense)              (None, 10)                2570      \n",
            "=================================================================\n",
            "Total params: 535,818\n",
            "Trainable params: 535,818\n",
            "Non-trainable params: 0\n",
            "_________________________________________________________________\n"
          ],
          "name": "stdout"
        }
      ]
    },
    {
      "cell_type": "markdown",
      "metadata": {
        "id": "3ovcYqIIhthC"
      },
      "source": [
        "Since we have labels as integers, we can use **SparseCategoricalCrossentropy** loss function. Here, we dont need to convert labels into one-hot vectors. If we convert labels into one-hot vectors then we can use **CategoricalCrossentropy** loss function."
      ]
    },
    {
      "cell_type": "markdown",
      "metadata": {
        "id": "rUbutgockBun"
      },
      "source": [
        "**we are using \"accuracy\" as a metric to track be keras during training. It is nothing to do with optimizing the loss function, just for tracking.**"
      ]
    },
    {
      "cell_type": "code",
      "metadata": {
        "id": "_i10u-qKhcB_"
      },
      "source": [
        "model.compile(\n",
        "    loss = keras.losses.SparseCategoricalCrossentropy(from_logits=True), # we are passing the logits.\n",
        "    optimizer = keras.optimizers.Adam(lr=0.001),\n",
        "    metrics=[\"accuracy\"]\n",
        ")"
      ],
      "execution_count": 30,
      "outputs": []
    },
    {
      "cell_type": "markdown",
      "metadata": {
        "id": "oGeivJjaki6q"
      },
      "source": [
        "# Train Neural Network"
      ]
    },
    {
      "cell_type": "code",
      "metadata": {
        "id": "ku7FaKMgkgng",
        "outputId": "67f1d2e9-703f-462a-d69f-713196ce6a17",
        "colab": {
          "base_uri": "https://localhost:8080/",
          "height": 212
        }
      },
      "source": [
        "model.fit(X_train,y_train,batch_size=32, epochs=5)"
      ],
      "execution_count": 31,
      "outputs": [
        {
          "output_type": "stream",
          "text": [
            "Epoch 1/5\n",
            "1875/1875 [==============================] - 11s 6ms/step - loss: 0.1858 - accuracy: 0.9440\n",
            "Epoch 2/5\n",
            "1875/1875 [==============================] - 10s 6ms/step - loss: 0.0782 - accuracy: 0.9757\n",
            "Epoch 3/5\n",
            "1875/1875 [==============================] - 10s 6ms/step - loss: 0.0542 - accuracy: 0.9829\n",
            "Epoch 4/5\n",
            "1875/1875 [==============================] - 11s 6ms/step - loss: 0.0415 - accuracy: 0.9871\n",
            "Epoch 5/5\n",
            "1875/1875 [==============================] - 11s 6ms/step - loss: 0.0310 - accuracy: 0.9901\n"
          ],
          "name": "stdout"
        },
        {
          "output_type": "execute_result",
          "data": {
            "text/plain": [
              "<tensorflow.python.keras.callbacks.History at 0x7f3ededdb6a0>"
            ]
          },
          "metadata": {
            "tags": []
          },
          "execution_count": 31
        }
      ]
    },
    {
      "cell_type": "markdown",
      "metadata": {
        "id": "tMB7bGVXlxha"
      },
      "source": [
        "# Evaluate Model"
      ]
    },
    {
      "cell_type": "code",
      "metadata": {
        "id": "IiOHHdmyl1Wx",
        "outputId": "e6314532-8828-43b5-fdc6-efe69003d37e",
        "colab": {
          "base_uri": "https://localhost:8080/",
          "height": 52
        }
      },
      "source": [
        "model.evaluate(X_test,y_test,batch_size=32)"
      ],
      "execution_count": 32,
      "outputs": [
        {
          "output_type": "stream",
          "text": [
            "313/313 [==============================] - 1s 2ms/step - loss: 0.0804 - accuracy: 0.9795\n"
          ],
          "name": "stdout"
        },
        {
          "output_type": "execute_result",
          "data": {
            "text/plain": [
              "[0.08040821552276611, 0.9794999957084656]"
            ]
          },
          "metadata": {
            "tags": []
          },
          "execution_count": 32
        }
      ]
    },
    {
      "cell_type": "code",
      "metadata": {
        "id": "RkKJDz9vnVSN"
      },
      "source": [
        ""
      ],
      "execution_count": null,
      "outputs": []
    }
  ]
}