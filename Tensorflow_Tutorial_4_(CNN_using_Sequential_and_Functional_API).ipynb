{
  "nbformat": 4,
  "nbformat_minor": 0,
  "metadata": {
    "colab": {
      "name": "Tensorflow Tutorial - 4 (CNN using Sequential and Functional API).ipynb",
      "provenance": [],
      "collapsed_sections": [],
      "authorship_tag": "ABX9TyPzb6WYb74rWGBTS2jBp+Fq",
      "include_colab_link": true
    },
    "kernelspec": {
      "name": "python3",
      "display_name": "Python 3"
    }
  },
  "cells": [
    {
      "cell_type": "markdown",
      "metadata": {
        "id": "view-in-github",
        "colab_type": "text"
      },
      "source": [
        "<a href=\"https://colab.research.google.com/github/mayankcircle/Tensorflow-2.0/blob/main/Tensorflow_Tutorial_4_(CNN_using_Sequential_and_Functional_API).ipynb\" target=\"_parent\"><img src=\"https://colab.research.google.com/assets/colab-badge.svg\" alt=\"Open In Colab\"/></a>"
      ]
    },
    {
      "cell_type": "code",
      "metadata": {
        "id": "cp3EnYLX8guH"
      },
      "source": [
        "import tensorflow as tf\n",
        "\n",
        "from tensorflow import keras\n",
        "from tensorflow.keras import layers\n",
        "from tensorflow.keras.datasets import cifar10"
      ],
      "execution_count": 1,
      "outputs": []
    },
    {
      "cell_type": "code",
      "metadata": {
        "id": "CbT-3L8f9Mm6",
        "outputId": "cb315f1c-2c9a-4957-c9c5-5cb1c0f5be8a",
        "colab": {
          "base_uri": "https://localhost:8080/",
          "height": 35
        }
      },
      "source": [
        "tf.__version__"
      ],
      "execution_count": 2,
      "outputs": [
        {
          "output_type": "execute_result",
          "data": {
            "application/vnd.google.colaboratory.intrinsic+json": {
              "type": "string"
            },
            "text/plain": [
              "'2.3.0'"
            ]
          },
          "metadata": {
            "tags": []
          },
          "execution_count": 2
        }
      ]
    },
    {
      "cell_type": "markdown",
      "metadata": {
        "id": "cyZvgMG29QYp"
      },
      "source": [
        "# Load CIFAR10 Dataset"
      ]
    },
    {
      "cell_type": "code",
      "metadata": {
        "id": "C29T1XL29nTB",
        "outputId": "1451a363-a29b-4b1d-8968-95e9730951c8",
        "colab": {
          "base_uri": "https://localhost:8080/",
          "height": 52
        }
      },
      "source": [
        "(X_train, y_train),(X_test,y_test) = cifar10.load_data()"
      ],
      "execution_count": 3,
      "outputs": [
        {
          "output_type": "stream",
          "text": [
            "Downloading data from https://www.cs.toronto.edu/~kriz/cifar-10-python.tar.gz\n",
            "170500096/170498071 [==============================] - 4s 0us/step\n"
          ],
          "name": "stdout"
        }
      ]
    },
    {
      "cell_type": "code",
      "metadata": {
        "id": "ocWb_ZZU9f3t",
        "outputId": "e4b6c522-91b0-40e6-8195-8923c4bd87dc",
        "colab": {
          "base_uri": "https://localhost:8080/",
          "height": 34
        }
      },
      "source": [
        "X_train.shape"
      ],
      "execution_count": 4,
      "outputs": [
        {
          "output_type": "execute_result",
          "data": {
            "text/plain": [
              "(50000, 32, 32, 3)"
            ]
          },
          "metadata": {
            "tags": []
          },
          "execution_count": 4
        }
      ]
    },
    {
      "cell_type": "code",
      "metadata": {
        "id": "a7uGyHS49_Ll",
        "outputId": "e24d5ce6-8ae3-4a18-b9a0-3d64f64f6020",
        "colab": {
          "base_uri": "https://localhost:8080/",
          "height": 34
        }
      },
      "source": [
        "set(y_train.ravel())"
      ],
      "execution_count": 5,
      "outputs": [
        {
          "output_type": "execute_result",
          "data": {
            "text/plain": [
              "{0, 1, 2, 3, 4, 5, 6, 7, 8, 9}"
            ]
          },
          "metadata": {
            "tags": []
          },
          "execution_count": 5
        }
      ]
    },
    {
      "cell_type": "markdown",
      "metadata": {
        "id": "h5EIA7O69yai"
      },
      "source": [
        "**CIFAR10 train dataset has 50000 RGB images of 32 x 32 px of 10 classes.**"
      ]
    },
    {
      "cell_type": "markdown",
      "metadata": {
        "id": "265Z05j8-Vg8"
      },
      "source": [
        "We convert each value to flaot32 dtype and normalize for fast training."
      ]
    },
    {
      "cell_type": "code",
      "metadata": {
        "id": "kQS6X7vI-Vzh"
      },
      "source": [
        "X_train = X_train.astype(\"float32\") / 255.0\n",
        "X_test = X_test.astype(\"float32\") / 255.0"
      ],
      "execution_count": 6,
      "outputs": []
    },
    {
      "cell_type": "markdown",
      "metadata": {
        "id": "DLW0Pgaf-vgd"
      },
      "source": [
        "# Basic CNN Model using Sequential API"
      ]
    },
    {
      "cell_type": "code",
      "metadata": {
        "id": "z3X1iHpy-2Lu"
      },
      "source": [
        "model = keras.Sequential(\n",
        "    [\n",
        "     keras.Input(shape=(32,32,3)), # h,w,channels (Shape of 1 image). By default, data_format is \"channels_last\"\n",
        "     # 1st convolutional layer : we use 32 filters of size 3 x 3 with No padding (valid)\n",
        "     layers.Conv2D(filters=32,kernel_size=3,padding=\"valid\",activation=\"relu\",name=\"1st_CONV\"),\n",
        "     # max pool layer\n",
        "     layers.MaxPool2D(pool_size=(2,2),name=\"1st_POOL\"),\n",
        "     # 2nd convolutional layer : we use 64 filters of size 3 x 3 with No padding (valid)\n",
        "     # By default, padding is \"valid\"\n",
        "     layers.Conv2D(filters=64,kernel_size=3,activation=\"relu\",name=\"2nd_CONV\"),\n",
        "     # max pool layer\n",
        "     # By default pool_size = (2,2)\n",
        "     layers.MaxPool2D(name=\"2nd_POOL\"),\n",
        "     # 3rd convolutional layer : we use 128 filters of size 3 x 3 with No padding (valid)\n",
        "     layers.Conv2D(filters=128,kernel_size=3,activation=\"relu\", name=\"3rd_CONV\"),\n",
        "     # flatten layer\n",
        "     layers.Flatten(),\n",
        "\n",
        "     # 1st FC layer\n",
        "     layers.Dense(64,name=\"FC1\"),\n",
        "     # Output layer # 10 classes : logits\n",
        "     layers.Dense(10,name=\"FC2\")\n",
        "\n",
        "    ]\n",
        ")"
      ],
      "execution_count": 7,
      "outputs": []
    },
    {
      "cell_type": "code",
      "metadata": {
        "id": "LlwiVC0NAzpb",
        "outputId": "05d776b3-a4d4-4d33-8594-f0b87db1cbf0",
        "colab": {
          "base_uri": "https://localhost:8080/",
          "height": 443
        }
      },
      "source": [
        "model.summary()"
      ],
      "execution_count": 8,
      "outputs": [
        {
          "output_type": "stream",
          "text": [
            "Model: \"sequential\"\n",
            "_________________________________________________________________\n",
            "Layer (type)                 Output Shape              Param #   \n",
            "=================================================================\n",
            "1st_CONV (Conv2D)            (None, 30, 30, 32)        896       \n",
            "_________________________________________________________________\n",
            "1st_POOL (MaxPooling2D)      (None, 15, 15, 32)        0         \n",
            "_________________________________________________________________\n",
            "2nd_CONV (Conv2D)            (None, 13, 13, 64)        18496     \n",
            "_________________________________________________________________\n",
            "2nd_POOL (MaxPooling2D)      (None, 6, 6, 64)          0         \n",
            "_________________________________________________________________\n",
            "3rd_CONV (Conv2D)            (None, 4, 4, 128)         73856     \n",
            "_________________________________________________________________\n",
            "flatten (Flatten)            (None, 2048)              0         \n",
            "_________________________________________________________________\n",
            "FC1 (Dense)                  (None, 64)                131136    \n",
            "_________________________________________________________________\n",
            "FC2 (Dense)                  (None, 10)                650       \n",
            "=================================================================\n",
            "Total params: 225,034\n",
            "Trainable params: 225,034\n",
            "Non-trainable params: 0\n",
            "_________________________________________________________________\n"
          ],
          "name": "stdout"
        }
      ]
    },
    {
      "cell_type": "code",
      "metadata": {
        "id": "SKGhPP16GHpL"
      },
      "source": [
        "model.compile(\n",
        "    loss=keras.losses.SparseCategoricalCrossentropy(from_logits=True),\n",
        "    optimizer=keras.optimizers.Adam(lr=3e-4),\n",
        "    metrics=[\"accuracy\"]\n",
        ")"
      ],
      "execution_count": 9,
      "outputs": []
    },
    {
      "cell_type": "code",
      "metadata": {
        "id": "I-OtzGuvGdgx",
        "outputId": "57735d12-46dc-4151-a362-a1660c6c9ffa",
        "colab": {
          "base_uri": "https://localhost:8080/",
          "height": 105
        }
      },
      "source": [
        "# train\n",
        "model.fit(X_train,y_train,batch_size=64,epochs=2)"
      ],
      "execution_count": 12,
      "outputs": [
        {
          "output_type": "stream",
          "text": [
            "Epoch 1/2\n",
            "782/782 [==============================] - 64s 82ms/step - loss: 0.9790 - accuracy: 0.6581\n",
            "Epoch 2/2\n",
            "782/782 [==============================] - 69s 89ms/step - loss: 0.9107 - accuracy: 0.6870\n"
          ],
          "name": "stdout"
        },
        {
          "output_type": "execute_result",
          "data": {
            "text/plain": [
              "<tensorflow.python.keras.callbacks.History at 0x7fa8731e1c88>"
            ]
          },
          "metadata": {
            "tags": []
          },
          "execution_count": 12
        }
      ]
    },
    {
      "cell_type": "code",
      "metadata": {
        "id": "Vs7S162CHOSa",
        "outputId": "9175535d-0b88-470b-e2aa-dd2df0847965",
        "colab": {
          "base_uri": "https://localhost:8080/",
          "height": 52
        }
      },
      "source": [
        "model.evaluate(X_test,y_test,batch_size=64)"
      ],
      "execution_count": 13,
      "outputs": [
        {
          "output_type": "stream",
          "text": [
            "157/157 [==============================] - 4s 24ms/step - loss: 0.9711 - accuracy: 0.6625\n"
          ],
          "name": "stdout"
        },
        {
          "output_type": "execute_result",
          "data": {
            "text/plain": [
              "[0.9711197018623352, 0.6625000238418579]"
            ]
          },
          "metadata": {
            "tags": []
          },
          "execution_count": 13
        }
      ]
    },
    {
      "cell_type": "markdown",
      "metadata": {
        "id": "6SnMNhniXtaK"
      },
      "source": [
        "# Basic CNN model using Functional API"
      ]
    },
    {
      "cell_type": "code",
      "metadata": {
        "id": "NwWjJ1pQXkni"
      },
      "source": [
        "def my_model():\n",
        "    inputs = keras.Input(shape=(32,32,3))\n",
        "    x = layers.Conv2D(filters=32,kernel_size=3,name=\"1st_CONV\")(inputs)\n",
        "    x = layers.BatchNormalization()(x) # we should not applying activation function before Batch Normalization, we need CONV layer RAW Output directly here\n",
        "    x = keras.activations.relu(x) # apply activation after Batch Norm\n",
        "    x = layers.MaxPool2D()(x) # by default, pooling window is 2 x 2\n",
        "    x = layers.Conv2D(filters=64,kernel_size=5,padding=\"same\",name=\"2nd_CONV\")(x)\n",
        "    x = layers.BatchNormalization()(x)\n",
        "    x = keras.activations.relu(x)\n",
        "    x = layers.Conv2D(filters=128,kernel_size=3,name=\"3rd_CONV\")(x)\n",
        "    x = layers.BatchNormalization()(x)\n",
        "    x = keras.activations.relu(x)\n",
        "    x = layers.Flatten()(x)\n",
        "    x = layers.Dense(64,activation=\"relu\")(x)\n",
        "    outputs = layers.Dense(10)(x)\n",
        "    \n",
        "    # create model\n",
        "    model = keras.Model(inputs=inputs, outputs = outputs)\n",
        "\n",
        "    return model\n"
      ],
      "execution_count": 28,
      "outputs": []
    },
    {
      "cell_type": "code",
      "metadata": {
        "id": "_OBcVs2Lb9tB"
      },
      "source": [
        "model = my_model()"
      ],
      "execution_count": 29,
      "outputs": []
    },
    {
      "cell_type": "code",
      "metadata": {
        "id": "xu4lN6ekeZdY",
        "outputId": "73a4ddc4-7941-467d-c577-2a658041761f",
        "colab": {
          "base_uri": "https://localhost:8080/",
          "height": 656
        }
      },
      "source": [
        "model.summary()"
      ],
      "execution_count": 30,
      "outputs": [
        {
          "output_type": "stream",
          "text": [
            "Model: \"functional_5\"\n",
            "_________________________________________________________________\n",
            "Layer (type)                 Output Shape              Param #   \n",
            "=================================================================\n",
            "input_9 (InputLayer)         [(None, 32, 32, 3)]       0         \n",
            "_________________________________________________________________\n",
            "1st_CONV (Conv2D)            (None, 30, 30, 32)        896       \n",
            "_________________________________________________________________\n",
            "batch_normalization_18 (Batc (None, 30, 30, 32)        128       \n",
            "_________________________________________________________________\n",
            "tf_op_layer_Relu_14 (TensorF [(None, 30, 30, 32)]      0         \n",
            "_________________________________________________________________\n",
            "max_pooling2d_6 (MaxPooling2 (None, 15, 15, 32)        0         \n",
            "_________________________________________________________________\n",
            "2nd_CONV (Conv2D)            (None, 15, 15, 64)        51264     \n",
            "_________________________________________________________________\n",
            "batch_normalization_19 (Batc (None, 15, 15, 64)        256       \n",
            "_________________________________________________________________\n",
            "tf_op_layer_Relu_15 (TensorF [(None, 15, 15, 64)]      0         \n",
            "_________________________________________________________________\n",
            "3rd_CONV (Conv2D)            (None, 13, 13, 128)       73856     \n",
            "_________________________________________________________________\n",
            "batch_normalization_20 (Batc (None, 13, 13, 128)       512       \n",
            "_________________________________________________________________\n",
            "tf_op_layer_Relu_16 (TensorF [(None, 13, 13, 128)]     0         \n",
            "_________________________________________________________________\n",
            "flatten_3 (Flatten)          (None, 21632)             0         \n",
            "_________________________________________________________________\n",
            "dense_4 (Dense)              (None, 64)                1384512   \n",
            "_________________________________________________________________\n",
            "dense_5 (Dense)              (None, 10)                650       \n",
            "=================================================================\n",
            "Total params: 1,512,074\n",
            "Trainable params: 1,511,626\n",
            "Non-trainable params: 448\n",
            "_________________________________________________________________\n"
          ],
          "name": "stdout"
        }
      ]
    },
    {
      "cell_type": "code",
      "metadata": {
        "id": "55knwlqkbTVA"
      },
      "source": [
        "model.compile(\n",
        "    loss=keras.losses.SparseCategoricalCrossentropy(from_logits=True),\n",
        "    optimizer=keras.optimizers.Adam(lr=3e-4),\n",
        "    metrics=[\"accuracy\"]\n",
        ")"
      ],
      "execution_count": 31,
      "outputs": []
    },
    {
      "cell_type": "code",
      "metadata": {
        "id": "e2zEVH8KcE_8",
        "outputId": "494f97e3-d57a-4ceb-cd26-442a3f0f3c12",
        "colab": {
          "base_uri": "https://localhost:8080/",
          "height": 105
        }
      },
      "source": [
        "# train\n",
        "model.fit(X_train,y_train,batch_size=64,epochs=2)"
      ],
      "execution_count": 33,
      "outputs": [
        {
          "output_type": "stream",
          "text": [
            "Epoch 1/2\n",
            "782/782 [==============================] - 256s 327ms/step - loss: 1.3059 - accuracy: 0.5326\n",
            "Epoch 2/2\n",
            "782/782 [==============================] - 252s 322ms/step - loss: 0.9269 - accuracy: 0.6750\n"
          ],
          "name": "stdout"
        },
        {
          "output_type": "execute_result",
          "data": {
            "text/plain": [
              "<tensorflow.python.keras.callbacks.History at 0x7fa86ead27b8>"
            ]
          },
          "metadata": {
            "tags": []
          },
          "execution_count": 33
        }
      ]
    },
    {
      "cell_type": "code",
      "metadata": {
        "id": "IVr5v4EucG3u",
        "outputId": "59c8214f-1db5-4276-d63f-c216c9a9e6d5",
        "colab": {
          "base_uri": "https://localhost:8080/",
          "height": 52
        }
      },
      "source": [
        "model.evaluate(X_test,y_test,batch_size=64)"
      ],
      "execution_count": 34,
      "outputs": [
        {
          "output_type": "stream",
          "text": [
            "157/157 [==============================] - 13s 80ms/step - loss: 0.9425 - accuracy: 0.6743\n"
          ],
          "name": "stdout"
        },
        {
          "output_type": "execute_result",
          "data": {
            "text/plain": [
              "[0.9424744844436646, 0.6743000149726868]"
            ]
          },
          "metadata": {
            "tags": []
          },
          "execution_count": 34
        }
      ]
    }
  ]
}