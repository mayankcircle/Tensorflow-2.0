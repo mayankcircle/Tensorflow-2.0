{
  "nbformat": 4,
  "nbformat_minor": 0,
  "metadata": {
    "colab": {
      "name": "Tensorflow Tutorial - 3 (Keras Sequential and Functional API).ipynb",
      "provenance": [],
      "collapsed_sections": [],
      "authorship_tag": "ABX9TyPfSgaSh1/rRpR2IlExx4OF",
      "include_colab_link": true
    },
    "kernelspec": {
      "name": "python3",
      "display_name": "Python 3"
    }
  },
  "cells": [
    {
      "cell_type": "markdown",
      "metadata": {
        "id": "view-in-github",
        "colab_type": "text"
      },
      "source": [
        "<a href=\"https://colab.research.google.com/github/mayankcircle/Tensorflow-2.0/blob/main/Tensorflow_Tutorial_3_(Keras_Sequential_and_Functional_API).ipynb\" target=\"_parent\"><img src=\"https://colab.research.google.com/assets/colab-badge.svg\" alt=\"Open In Colab\"/></a>"
      ]
    },
    {
      "cell_type": "markdown",
      "metadata": {
        "id": "16rhwCrjbrgT"
      },
      "source": [
        "Required Libraries"
      ]
    },
    {
      "cell_type": "code",
      "metadata": {
        "id": "C3z4A1z7cKWc"
      },
      "source": [
        "import tensorflow as tf\n",
        "\n",
        "from tensorflow import keras\n",
        "from tensorflow.keras import layers\n",
        "from tensorflow.keras.datasets import mnist"
      ],
      "execution_count": 2,
      "outputs": []
    },
    {
      "cell_type": "code",
      "metadata": {
        "id": "zbAVua9ocLIw",
        "outputId": "bad78123-8f32-4794-8e37-861184c4a5e7",
        "colab": {
          "base_uri": "https://localhost:8080/",
          "height": 35
        }
      },
      "source": [
        "tf.__version__"
      ],
      "execution_count": 7,
      "outputs": [
        {
          "output_type": "execute_result",
          "data": {
            "application/vnd.google.colaboratory.intrinsic+json": {
              "type": "string"
            },
            "text/plain": [
              "'2.3.0'"
            ]
          },
          "metadata": {
            "tags": []
          },
          "execution_count": 7
        }
      ]
    },
    {
      "cell_type": "markdown",
      "metadata": {
        "id": "9iqaQUJIcYVp"
      },
      "source": [
        "# Load MNIST Dataset"
      ]
    },
    {
      "cell_type": "code",
      "metadata": {
        "id": "XhxAEyCDcXp-",
        "outputId": "237ed787-47fc-428a-9e29-4dad741a300a",
        "colab": {
          "base_uri": "https://localhost:8080/",
          "height": 52
        }
      },
      "source": [
        "(X_train,y_train),(X_test,y_test) = mnist.load_data()"
      ],
      "execution_count": 3,
      "outputs": [
        {
          "output_type": "stream",
          "text": [
            "Downloading data from https://storage.googleapis.com/tensorflow/tf-keras-datasets/mnist.npz\n",
            "11493376/11490434 [==============================] - 0s 0us/step\n"
          ],
          "name": "stdout"
        }
      ]
    },
    {
      "cell_type": "code",
      "metadata": {
        "id": "MG6P8l8GiU_t",
        "outputId": "321b429b-f036-4700-9c52-3ec6f3305c3b",
        "colab": {
          "base_uri": "https://localhost:8080/",
          "height": 34
        }
      },
      "source": [
        "# classees\n",
        "set(y_train)"
      ],
      "execution_count": 24,
      "outputs": [
        {
          "output_type": "execute_result",
          "data": {
            "text/plain": [
              "{0, 1, 2, 3, 4, 5, 6, 7, 8, 9}"
            ]
          },
          "metadata": {
            "tags": []
          },
          "execution_count": 24
        }
      ]
    },
    {
      "cell_type": "code",
      "metadata": {
        "id": "gxfNtZ_Db-ts",
        "outputId": "712364e3-1abf-4fe6-b321-677198061ef5",
        "colab": {
          "base_uri": "https://localhost:8080/",
          "height": 34
        }
      },
      "source": [
        "X_train.shape # we have 60000 gray-scale images (only one channel) of size 28 x 28 in train data"
      ],
      "execution_count": 11,
      "outputs": [
        {
          "output_type": "execute_result",
          "data": {
            "text/plain": [
              "(60000, 28, 28)"
            ]
          },
          "metadata": {
            "tags": []
          },
          "execution_count": 11
        }
      ]
    },
    {
      "cell_type": "code",
      "metadata": {
        "id": "Zvb_7NgveAwo",
        "outputId": "7923cdde-2a1e-44e3-81fb-0c2eb1f91f78",
        "colab": {
          "base_uri": "https://localhost:8080/",
          "height": 34
        }
      },
      "source": [
        "# faltten out the images\n",
        "X_train = X_train.reshape(-1,28*28)\n",
        "X_train.shape"
      ],
      "execution_count": 4,
      "outputs": [
        {
          "output_type": "execute_result",
          "data": {
            "text/plain": [
              "(60000, 784)"
            ]
          },
          "metadata": {
            "tags": []
          },
          "execution_count": 4
        }
      ]
    },
    {
      "cell_type": "code",
      "metadata": {
        "id": "aizMG8PDeaBU",
        "outputId": "8d7b20ee-30ad-430e-c70e-bd6b0ca5e136",
        "colab": {
          "base_uri": "https://localhost:8080/",
          "height": 34
        }
      },
      "source": [
        "X_train.dtype # data type is int 8 bit so possible values will be from 0 to 255"
      ],
      "execution_count": 15,
      "outputs": [
        {
          "output_type": "execute_result",
          "data": {
            "text/plain": [
              "dtype('uint8')"
            ]
          },
          "metadata": {
            "tags": []
          },
          "execution_count": 15
        }
      ]
    },
    {
      "cell_type": "code",
      "metadata": {
        "id": "q_TI5DVte5Kw",
        "outputId": "57142ff9-ab1b-4e05-ac83-aeb4c9de0a44",
        "colab": {
          "base_uri": "https://localhost:8080/",
          "height": 34
        }
      },
      "source": [
        "# we can change the data type to float32 and normalize the values to have 0 to 1 for fast training\n",
        "X_train = X_train.astype(\"float32\") / 255.0\n",
        "X_train.dtype"
      ],
      "execution_count": 5,
      "outputs": [
        {
          "output_type": "execute_result",
          "data": {
            "text/plain": [
              "dtype('float32')"
            ]
          },
          "metadata": {
            "tags": []
          },
          "execution_count": 5
        }
      ]
    },
    {
      "cell_type": "code",
      "metadata": {
        "id": "EGlA46xBfRQh",
        "outputId": "257552d5-93d5-43a2-e7ec-f56b62b21206",
        "colab": {
          "base_uri": "https://localhost:8080/",
          "height": 34
        }
      },
      "source": [
        "# We also do the same for X_test (test data)\n",
        "X_test = X_test.reshape(-1,28*28).astype(\"float32\")/255.0\n",
        "X_test.shape"
      ],
      "execution_count": 6,
      "outputs": [
        {
          "output_type": "execute_result",
          "data": {
            "text/plain": [
              "(10000, 784)"
            ]
          },
          "metadata": {
            "tags": []
          },
          "execution_count": 6
        }
      ]
    },
    {
      "cell_type": "code",
      "metadata": {
        "id": "3GMtwOBEfrOU"
      },
      "source": [
        "# OPTIONAL : Convert numpy array to Tensorflow Tensor\n",
        "# Though Conversion from Numpy array to TEnsor will be done internally automatically by tensorflow, we can also achieve this by-\n",
        "X_train = tf.convert_to_tensor(X_train)\n",
        "X_test = tf.convert_to_tensor(X_test)"
      ],
      "execution_count": null,
      "outputs": []
    },
    {
      "cell_type": "markdown",
      "metadata": {
        "id": "W-f9iA-CgZeQ"
      },
      "source": [
        "# Build Basic Neural Network using Sequential API"
      ]
    },
    {
      "cell_type": "markdown",
      "metadata": {
        "id": "zUpnKxT3oHdR"
      },
      "source": [
        "**Sequential API is very convenient but not very flexible. This is only means for one input to one output mapping. If we want 2nd case then we go for Functional API.**"
      ]
    },
    {
      "cell_type": "code",
      "metadata": {
        "id": "BKLxAntQgTWc"
      },
      "source": [
        "model = keras.Sequential(\n",
        "    [\n",
        "     keras.Input(shape=(28*28)),\n",
        "     layers.Dense(512, activation = \"relu\"),\n",
        "     layers.Dense(256, activation = \"relu\"),\n",
        "     layers.Dense(10)\n",
        "    ]\n",
        ")"
      ],
      "execution_count": 31,
      "outputs": []
    },
    {
      "cell_type": "markdown",
      "metadata": {
        "id": "kdyF5UHohHIm"
      },
      "source": [
        "We are not applying Softmax in output layer of Neural Network because Softmax will be done from the Loss Function. So we raw Logits into that."
      ]
    },
    {
      "cell_type": "code",
      "metadata": {
        "id": "aL3Wp79Jnahx",
        "outputId": "9abf5fa3-95a5-4428-9e30-05fdcb8247c0",
        "colab": {
          "base_uri": "https://localhost:8080/",
          "height": 265
        }
      },
      "source": [
        "model.summary()"
      ],
      "execution_count": 32,
      "outputs": [
        {
          "output_type": "stream",
          "text": [
            "Model: \"sequential_2\"\n",
            "_________________________________________________________________\n",
            "Layer (type)                 Output Shape              Param #   \n",
            "=================================================================\n",
            "dense_6 (Dense)              (None, 512)               401920    \n",
            "_________________________________________________________________\n",
            "dense_7 (Dense)              (None, 256)               131328    \n",
            "_________________________________________________________________\n",
            "dense_8 (Dense)              (None, 10)                2570      \n",
            "=================================================================\n",
            "Total params: 535,818\n",
            "Trainable params: 535,818\n",
            "Non-trainable params: 0\n",
            "_________________________________________________________________\n"
          ],
          "name": "stdout"
        }
      ]
    },
    {
      "cell_type": "markdown",
      "metadata": {
        "id": "3ovcYqIIhthC"
      },
      "source": [
        "Since we have labels as integers, we can use **SparseCategoricalCrossentropy** loss function. Here, we dont need to convert labels into one-hot vectors. If we convert labels into one-hot vectors then we can use **CategoricalCrossentropy** loss function."
      ]
    },
    {
      "cell_type": "markdown",
      "metadata": {
        "id": "rUbutgockBun"
      },
      "source": [
        "**we are using \"accuracy\" as a metric to track be keras during training. It is nothing to do with optimizing the loss function, just for tracking.**"
      ]
    },
    {
      "cell_type": "code",
      "metadata": {
        "id": "_i10u-qKhcB_"
      },
      "source": [
        "model.compile(\n",
        "    loss = keras.losses.SparseCategoricalCrossentropy(from_logits=True), # we are passing the logits.\n",
        "    optimizer = keras.optimizers.Adam(lr=0.001),\n",
        "    metrics=[\"accuracy\"]\n",
        ")"
      ],
      "execution_count": 33,
      "outputs": []
    },
    {
      "cell_type": "markdown",
      "metadata": {
        "id": "oGeivJjaki6q"
      },
      "source": [
        "# Train Neural Network"
      ]
    },
    {
      "cell_type": "code",
      "metadata": {
        "id": "ku7FaKMgkgng",
        "outputId": "5a6b3520-8176-487d-dd5f-e73d93a4fb5e",
        "colab": {
          "base_uri": "https://localhost:8080/",
          "height": 212
        }
      },
      "source": [
        "model.fit(X_train,y_train,batch_size=32, epochs=5)"
      ],
      "execution_count": 34,
      "outputs": [
        {
          "output_type": "stream",
          "text": [
            "Epoch 1/5\n",
            "1875/1875 [==============================] - 9s 5ms/step - loss: 0.1877 - accuracy: 0.9432\n",
            "Epoch 2/5\n",
            "1875/1875 [==============================] - 9s 5ms/step - loss: 0.0802 - accuracy: 0.9753\n",
            "Epoch 3/5\n",
            "1875/1875 [==============================] - 10s 5ms/step - loss: 0.0542 - accuracy: 0.9822\n",
            "Epoch 4/5\n",
            "1875/1875 [==============================] - 10s 5ms/step - loss: 0.0413 - accuracy: 0.9868\n",
            "Epoch 5/5\n",
            "1875/1875 [==============================] - 10s 5ms/step - loss: 0.0336 - accuracy: 0.9891\n"
          ],
          "name": "stdout"
        },
        {
          "output_type": "execute_result",
          "data": {
            "text/plain": [
              "<tensorflow.python.keras.callbacks.History at 0x7fc880657d30>"
            ]
          },
          "metadata": {
            "tags": []
          },
          "execution_count": 34
        }
      ]
    },
    {
      "cell_type": "markdown",
      "metadata": {
        "id": "tMB7bGVXlxha"
      },
      "source": [
        "# Evaluate Model"
      ]
    },
    {
      "cell_type": "code",
      "metadata": {
        "id": "IiOHHdmyl1Wx",
        "outputId": "e6314532-8828-43b5-fdc6-efe69003d37e",
        "colab": {
          "base_uri": "https://localhost:8080/",
          "height": 52
        }
      },
      "source": [
        "model.evaluate(X_test,y_test,batch_size=32)"
      ],
      "execution_count": 32,
      "outputs": [
        {
          "output_type": "stream",
          "text": [
            "313/313 [==============================] - 1s 2ms/step - loss: 0.0804 - accuracy: 0.9795\n"
          ],
          "name": "stdout"
        },
        {
          "output_type": "execute_result",
          "data": {
            "text/plain": [
              "[0.08040821552276611, 0.9794999957084656]"
            ]
          },
          "metadata": {
            "tags": []
          },
          "execution_count": 32
        }
      ]
    },
    {
      "cell_type": "markdown",
      "metadata": {
        "id": "OguV-udzonPM"
      },
      "source": [
        "# Build Basic Neural Network using Functional API"
      ]
    },
    {
      "cell_type": "markdown",
      "metadata": {
        "id": "12aSLUVlorWL"
      },
      "source": [
        "It is bit more flexible, meant for multiple input to multiple output mapping."
      ]
    },
    {
      "cell_type": "code",
      "metadata": {
        "id": "RkKJDz9vnVSN"
      },
      "source": [
        "inputs = keras.Input(shape=(28*28))\n",
        "x = layers.Dense(512, activation=\"relu\",name=\"First_Layer\")(inputs)\n",
        "x = layers.Dense(256, activation=\"relu\",name=\"Seccond_Layer\")(x)\n",
        "outputs = layers.Dense(10, activation=\"softmax\",name=\"Output_Layer\")(x)\n",
        "\n",
        "# build model\n",
        "model = keras.Model(inputs=inputs, outputs=outputs)\n",
        "\n"
      ],
      "execution_count": 47,
      "outputs": []
    },
    {
      "cell_type": "code",
      "metadata": {
        "id": "PJ8kpVKMqBU7",
        "outputId": "1efc440b-dabc-4bb0-8068-ad7df5da061a",
        "colab": {
          "base_uri": "https://localhost:8080/",
          "height": 301
        }
      },
      "source": [
        "model.summary()"
      ],
      "execution_count": 48,
      "outputs": [
        {
          "output_type": "stream",
          "text": [
            "Model: \"functional_5\"\n",
            "_________________________________________________________________\n",
            "Layer (type)                 Output Shape              Param #   \n",
            "=================================================================\n",
            "input_7 (InputLayer)         [(None, 784)]             0         \n",
            "_________________________________________________________________\n",
            "First_Layer (Dense)          (None, 512)               401920    \n",
            "_________________________________________________________________\n",
            "Seccond_Layer (Dense)        (None, 256)               131328    \n",
            "_________________________________________________________________\n",
            "Output_Layer (Dense)         (None, 10)                2570      \n",
            "=================================================================\n",
            "Total params: 535,818\n",
            "Trainable params: 535,818\n",
            "Non-trainable params: 0\n",
            "_________________________________________________________________\n"
          ],
          "name": "stdout"
        }
      ]
    },
    {
      "cell_type": "code",
      "metadata": {
        "id": "7SKYS_ViqKRD"
      },
      "source": [
        "model.compile(\n",
        "    loss = keras.losses.SparseCategoricalCrossentropy(from_logits=False), # here we are passing the softmax op\n",
        "    optimizer = keras.optimizers.Adam(lr=0.001),\n",
        "    metrics=[\"accuracy\"]\n",
        ")"
      ],
      "execution_count": 41,
      "outputs": []
    },
    {
      "cell_type": "code",
      "metadata": {
        "id": "At-YBN5_qZWd",
        "outputId": "03a88601-f956-4f6d-e8fe-401730463411",
        "colab": {
          "base_uri": "https://localhost:8080/",
          "height": 212
        }
      },
      "source": [
        "model.fit(X_train,y_train,batch_size=32, epochs=5)"
      ],
      "execution_count": 42,
      "outputs": [
        {
          "output_type": "stream",
          "text": [
            "Epoch 1/5\n",
            "1875/1875 [==============================] - 11s 6ms/step - loss: 0.1859 - accuracy: 0.9433\n",
            "Epoch 2/5\n",
            "1875/1875 [==============================] - 12s 6ms/step - loss: 0.0786 - accuracy: 0.9754\n",
            "Epoch 3/5\n",
            "1875/1875 [==============================] - 12s 6ms/step - loss: 0.0563 - accuracy: 0.9821\n",
            "Epoch 4/5\n",
            "1875/1875 [==============================] - 11s 6ms/step - loss: 0.0404 - accuracy: 0.9872\n",
            "Epoch 5/5\n",
            "1875/1875 [==============================] - 11s 6ms/step - loss: 0.0330 - accuracy: 0.9893\n"
          ],
          "name": "stdout"
        },
        {
          "output_type": "execute_result",
          "data": {
            "text/plain": [
              "<tensorflow.python.keras.callbacks.History at 0x7f3edbeab6a0>"
            ]
          },
          "metadata": {
            "tags": []
          },
          "execution_count": 42
        }
      ]
    },
    {
      "cell_type": "code",
      "metadata": {
        "id": "pRF-UHTjq5WK",
        "outputId": "3c7d3868-3eb5-4510-a191-75a5e1af3559",
        "colab": {
          "base_uri": "https://localhost:8080/",
          "height": 52
        }
      },
      "source": [
        "model.evaluate(X_test,y_test,batch_size=32)"
      ],
      "execution_count": 43,
      "outputs": [
        {
          "output_type": "stream",
          "text": [
            "313/313 [==============================] - 1s 2ms/step - loss: 0.0737 - accuracy: 0.9791\n"
          ],
          "name": "stdout"
        },
        {
          "output_type": "execute_result",
          "data": {
            "text/plain": [
              "[0.07366567850112915, 0.9790999889373779]"
            ]
          },
          "metadata": {
            "tags": []
          },
          "execution_count": 43
        }
      ]
    },
    {
      "cell_type": "markdown",
      "metadata": {
        "id": "TXNzvDNCt8-I"
      },
      "source": [
        "# How to get an output of specific layer of Neural Network?"
      ]
    },
    {
      "cell_type": "markdown",
      "metadata": {
        "id": "yWcskBOguQaJ"
      },
      "source": [
        "The below technique will be working for both Sequential API as well as Functional API."
      ]
    },
    {
      "cell_type": "markdown",
      "metadata": {
        "id": "fnHU_1S14QIG"
      },
      "source": [
        "1st we again rebuild a sequential model"
      ]
    },
    {
      "cell_type": "code",
      "metadata": {
        "id": "7iGalD3i4OaP"
      },
      "source": [
        "model = keras.Sequential(\n",
        "    [\n",
        "     keras.Input(shape=(28*28)),\n",
        "     layers.Dense(512, activation = \"relu\"),\n",
        "     layers.Dense(256, activation = \"relu\"),\n",
        "     layers.Dense(10)\n",
        "    ]\n",
        ")"
      ],
      "execution_count": null,
      "outputs": []
    },
    {
      "cell_type": "code",
      "metadata": {
        "id": "Ir2QOGER4Oal"
      },
      "source": [
        "model.compile(\n",
        "    loss = keras.losses.SparseCategoricalCrossentropy(from_logits=True), # we are passing the logits.\n",
        "    optimizer = keras.optimizers.Adam(lr=0.001),\n",
        "    metrics=[\"accuracy\"]\n",
        ")"
      ],
      "execution_count": null,
      "outputs": []
    },
    {
      "cell_type": "code",
      "metadata": {
        "id": "_Zwi65GF4Oar",
        "outputId": "5a6b3520-8176-487d-dd5f-e73d93a4fb5e",
        "colab": {
          "base_uri": "https://localhost:8080/",
          "height": 212
        }
      },
      "source": [
        "model.fit(X_train,y_train,batch_size=32, epochs=5)"
      ],
      "execution_count": null,
      "outputs": [
        {
          "output_type": "stream",
          "text": [
            "Epoch 1/5\n",
            "1875/1875 [==============================] - 9s 5ms/step - loss: 0.1877 - accuracy: 0.9432\n",
            "Epoch 2/5\n",
            "1875/1875 [==============================] - 9s 5ms/step - loss: 0.0802 - accuracy: 0.9753\n",
            "Epoch 3/5\n",
            "1875/1875 [==============================] - 10s 5ms/step - loss: 0.0542 - accuracy: 0.9822\n",
            "Epoch 4/5\n",
            "1875/1875 [==============================] - 10s 5ms/step - loss: 0.0413 - accuracy: 0.9868\n",
            "Epoch 5/5\n",
            "1875/1875 [==============================] - 10s 5ms/step - loss: 0.0336 - accuracy: 0.9891\n"
          ],
          "name": "stdout"
        },
        {
          "output_type": "execute_result",
          "data": {
            "text/plain": [
              "<tensorflow.python.keras.callbacks.History at 0x7fc880657d30>"
            ]
          },
          "metadata": {
            "tags": []
          },
          "execution_count": 34
        }
      ]
    },
    {
      "cell_type": "code",
      "metadata": {
        "id": "-uVwYxIcuJAH",
        "outputId": "d1a68a04-9539-4966-b19d-24e144e603d2",
        "colab": {
          "base_uri": "https://localhost:8080/",
          "height": 265
        }
      },
      "source": [
        "model.summary()"
      ],
      "execution_count": 35,
      "outputs": [
        {
          "output_type": "stream",
          "text": [
            "Model: \"sequential_2\"\n",
            "_________________________________________________________________\n",
            "Layer (type)                 Output Shape              Param #   \n",
            "=================================================================\n",
            "dense_6 (Dense)              (None, 512)               401920    \n",
            "_________________________________________________________________\n",
            "dense_7 (Dense)              (None, 256)               131328    \n",
            "_________________________________________________________________\n",
            "dense_8 (Dense)              (None, 10)                2570      \n",
            "=================================================================\n",
            "Total params: 535,818\n",
            "Trainable params: 535,818\n",
            "Non-trainable params: 0\n",
            "_________________________________________________________________\n"
          ],
          "name": "stdout"
        }
      ]
    },
    {
      "cell_type": "code",
      "metadata": {
        "id": "2bTKIdNb3OOz"
      },
      "source": [
        "# we can get output of each layers (Recommended way)\n",
        "model = keras.Model(inputs=model.inputs,\n",
        "                    outputs=[layer.output for layer in model.layers])"
      ],
      "execution_count": 36,
      "outputs": []
    },
    {
      "cell_type": "code",
      "metadata": {
        "id": "y-IfYss_3Quv",
        "outputId": "bc5e7b4a-617b-40b2-c79d-2cf200a7b427",
        "colab": {
          "base_uri": "https://localhost:8080/",
          "height": 70
        }
      },
      "source": [
        "features = model.predict(X_train)\n",
        "\n",
        "for feature in features:\n",
        "    print(feature.shape)"
      ],
      "execution_count": 37,
      "outputs": [
        {
          "output_type": "stream",
          "text": [
            "(60000, 512)\n",
            "(60000, 256)\n",
            "(60000, 10)\n"
          ],
          "name": "stdout"
        }
      ]
    },
    {
      "cell_type": "code",
      "metadata": {
        "id": "oOfm3qxt3y1Z",
        "outputId": "da2b8721-0f02-4603-a689-f5bf9341fcbf",
        "colab": {
          "base_uri": "https://localhost:8080/",
          "height": 105
        }
      },
      "source": [
        "# getting the logits value (last layer output)\n",
        "print(\"Last layer shape : \",features[-1].shape)\n",
        "print(\"Get the last layer output (logits) of 1st sample only\")\n",
        "features[-1][0]"
      ],
      "execution_count": 40,
      "outputs": [
        {
          "output_type": "stream",
          "text": [
            "Last layer shape :  (60000, 10)\n",
            "Get the last layer output (logits) of 1st sample only\n"
          ],
          "name": "stdout"
        },
        {
          "output_type": "execute_result",
          "data": {
            "text/plain": [
              "array([-28.69341   , -10.879023  , -15.435382  ,  11.1008215 ,\n",
              "       -25.210272  ,  22.408262  , -14.360717  , -15.948825  ,\n",
              "        -8.335175  ,  -0.84735394], dtype=float32)"
            ]
          },
          "metadata": {
            "tags": []
          },
          "execution_count": 40
        }
      ]
    },
    {
      "cell_type": "markdown",
      "metadata": {
        "id": "J2UQJ3q146oq"
      },
      "source": [
        "**So logits are basically raw output of Neural Network without any activation function such as softmax etc. THey are also not the probabilities also, they are just the values (any real number)**"
      ]
    },
    {
      "cell_type": "code",
      "metadata": {
        "id": "MJKxREqzuymc"
      },
      "source": [
        "# getting the second last layer output (layers[-2])\n",
        "\n",
        "model = keras.Model(inputs = model.inputs,\n",
        "                    outputs=[model.layers[-2].output])\n",
        "\n",
        "# OR we can aslo get the partiicular layer by its name\n",
        "\"\"\"\n",
        "model = keras.Model(inputs = model.inputs,\n",
        "                    outputs=[model.get_layer(\"dense_1\").output])\n",
        "\"\"\""
      ],
      "execution_count": null,
      "outputs": []
    },
    {
      "cell_type": "code",
      "metadata": {
        "id": "1n_ccIbAvDhJ",
        "outputId": "f075dbf4-b86c-4e71-c374-7975b2ff3a81",
        "colab": {
          "base_uri": "https://localhost:8080/",
          "height": 34
        }
      },
      "source": [
        "features = model.predict(X_train)\n",
        "features.shape"
      ],
      "execution_count": 29,
      "outputs": [
        {
          "output_type": "execute_result",
          "data": {
            "text/plain": [
              "(60000, 256)"
            ]
          },
          "metadata": {
            "tags": []
          },
          "execution_count": 29
        }
      ]
    },
    {
      "cell_type": "code",
      "metadata": {
        "id": "2Gdtv2U3wkx_",
        "outputId": "d1204f7a-351d-49a1-a5a4-7936b359c20e",
        "colab": {
          "base_uri": "https://localhost:8080/",
          "height": 265
        }
      },
      "source": [
        "# if we get 2nd layer output, the model will be changed to have from input to 2nd llast layer only.\n",
        "model.summary()"
      ],
      "execution_count": 30,
      "outputs": [
        {
          "output_type": "stream",
          "text": [
            "Model: \"functional_11\"\n",
            "_________________________________________________________________\n",
            "Layer (type)                 Output Shape              Param #   \n",
            "=================================================================\n",
            "input_2 (InputLayer)         [(None, 784)]             0         \n",
            "_________________________________________________________________\n",
            "dense_3 (Dense)              (None, 512)               401920    \n",
            "_________________________________________________________________\n",
            "dense_4 (Dense)              (None, 256)               131328    \n",
            "=================================================================\n",
            "Total params: 533,248\n",
            "Trainable params: 533,248\n",
            "Non-trainable params: 0\n",
            "_________________________________________________________________\n"
          ],
          "name": "stdout"
        }
      ]
    }
  ]
}