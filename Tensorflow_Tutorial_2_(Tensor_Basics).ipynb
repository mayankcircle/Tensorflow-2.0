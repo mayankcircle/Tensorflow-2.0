{
  "nbformat": 4,
  "nbformat_minor": 0,
  "metadata": {
    "colab": {
      "name": "Tensorflow Tutorial - 2 (Tensor Basics).ipynb",
      "provenance": [],
      "collapsed_sections": [],
      "authorship_tag": "ABX9TyMTy+7/buYp4aPS1Pj8mm5m",
      "include_colab_link": true
    },
    "kernelspec": {
      "name": "python3",
      "display_name": "Python 3"
    }
  },
  "cells": [
    {
      "cell_type": "markdown",
      "metadata": {
        "id": "view-in-github",
        "colab_type": "text"
      },
      "source": [
        "<a href=\"https://colab.research.google.com/github/mayankcircle/Tensorflow-2.0/blob/main/Tensorflow_Tutorial_2_(Tensor_Basics).ipynb\" target=\"_parent\"><img src=\"https://colab.research.google.com/assets/colab-badge.svg\" alt=\"Open In Colab\"/></a>"
      ]
    },
    {
      "cell_type": "code",
      "metadata": {
        "id": "AuLABLhNnWm0"
      },
      "source": [
        "import tensorflow as tf"
      ],
      "execution_count": 1,
      "outputs": []
    },
    {
      "cell_type": "code",
      "metadata": {
        "id": "Tr3uad3jpo4e",
        "outputId": "866b0521-4a69-40ac-b1a8-659fa6ce7632",
        "colab": {
          "base_uri": "https://localhost:8080/",
          "height": 35
        }
      },
      "source": [
        "tf.__version__"
      ],
      "execution_count": 2,
      "outputs": [
        {
          "output_type": "execute_result",
          "data": {
            "application/vnd.google.colaboratory.intrinsic+json": {
              "type": "string"
            },
            "text/plain": [
              "'2.3.0'"
            ]
          },
          "metadata": {
            "tags": []
          },
          "execution_count": 2
        }
      ]
    },
    {
      "cell_type": "markdown",
      "metadata": {
        "id": "UfEkGf-rpu7L"
      },
      "source": [
        "Tensor Initialization - Scalar (INT)"
      ]
    },
    {
      "cell_type": "code",
      "metadata": {
        "id": "Cde6pnRXproa",
        "outputId": "acd3e80f-8d1c-4fd2-d826-6e799bba005d",
        "colab": {
          "base_uri": "https://localhost:8080/",
          "height": 34
        }
      },
      "source": [
        "x = tf.constant(4)\n",
        "x"
      ],
      "execution_count": 3,
      "outputs": [
        {
          "output_type": "execute_result",
          "data": {
            "text/plain": [
              "<tf.Tensor: shape=(), dtype=int32, numpy=4>"
            ]
          },
          "metadata": {
            "tags": []
          },
          "execution_count": 3
        }
      ]
    },
    {
      "cell_type": "markdown",
      "metadata": {
        "id": "hs1cKjnUrDvF"
      },
      "source": [
        "Tensor Initialization - Scalar (FLOAT)"
      ]
    },
    {
      "cell_type": "code",
      "metadata": {
        "id": "wiwIxD_xqRg6",
        "outputId": "a205ecde-6478-41aa-f3c7-5ea01f7ddcc2",
        "colab": {
          "base_uri": "https://localhost:8080/",
          "height": 34
        }
      },
      "source": [
        "x = tf.constant(4.0)\n",
        "x"
      ],
      "execution_count": 4,
      "outputs": [
        {
          "output_type": "execute_result",
          "data": {
            "text/plain": [
              "<tf.Tensor: shape=(), dtype=float32, numpy=4.0>"
            ]
          },
          "metadata": {
            "tags": []
          },
          "execution_count": 4
        }
      ]
    },
    {
      "cell_type": "markdown",
      "metadata": {
        "id": "MUfbN0AJrKNX"
      },
      "source": [
        "**Tensor Initialization - Scalar (Recommended Way)**"
      ]
    },
    {
      "cell_type": "code",
      "metadata": {
        "id": "Cnv5rCiCqU3x",
        "outputId": "ace489d2-3397-4692-fdda-3f766d8bc568",
        "colab": {
          "base_uri": "https://localhost:8080/",
          "height": 34
        }
      },
      "source": [
        "x = tf.constant(4,shape=(1,1),dtype=tf.float32)\n",
        "x"
      ],
      "execution_count": 5,
      "outputs": [
        {
          "output_type": "execute_result",
          "data": {
            "text/plain": [
              "<tf.Tensor: shape=(1, 1), dtype=float32, numpy=array([[4.]], dtype=float32)>"
            ]
          },
          "metadata": {
            "tags": []
          },
          "execution_count": 5
        }
      ]
    },
    {
      "cell_type": "markdown",
      "metadata": {
        "id": "8JiTAKhKqthI"
      },
      "source": [
        "**Tensor Initialization - 2 x 3 Matrix (Recommended Way)**"
      ]
    },
    {
      "cell_type": "code",
      "metadata": {
        "id": "BRtg00TirUBU",
        "outputId": "1274f23c-2e82-41fc-ef75-9d4ec219eea5",
        "colab": {
          "base_uri": "https://localhost:8080/",
          "height": 70
        }
      },
      "source": [
        "x = tf.constant([[1,2,3],[4,5,6]])\n",
        "x"
      ],
      "execution_count": 6,
      "outputs": [
        {
          "output_type": "execute_result",
          "data": {
            "text/plain": [
              "<tf.Tensor: shape=(2, 3), dtype=int32, numpy=\n",
              "array([[1, 2, 3],\n",
              "       [4, 5, 6]], dtype=int32)>"
            ]
          },
          "metadata": {
            "tags": []
          },
          "execution_count": 6
        }
      ]
    },
    {
      "cell_type": "markdown",
      "metadata": {
        "id": "AS4a7iG_rw7k"
      },
      "source": [
        "Tensor Initialization - convert 2 x 3 matrix (list) to 3 x 2 matrix using shape argument "
      ]
    },
    {
      "cell_type": "code",
      "metadata": {
        "id": "y3LJkGOcrl8v",
        "outputId": "7c30d1dd-7831-4040-ce13-3da66d6e10bb",
        "colab": {
          "base_uri": "https://localhost:8080/",
          "height": 87
        }
      },
      "source": [
        "x = tf.constant([[1,2,3],[4,5,6]],shape=(3,2))\n",
        "x"
      ],
      "execution_count": 7,
      "outputs": [
        {
          "output_type": "execute_result",
          "data": {
            "text/plain": [
              "<tf.Tensor: shape=(3, 2), dtype=int32, numpy=\n",
              "array([[1, 2],\n",
              "       [3, 4],\n",
              "       [5, 6]], dtype=int32)>"
            ]
          },
          "metadata": {
            "tags": []
          },
          "execution_count": 7
        }
      ]
    },
    {
      "cell_type": "markdown",
      "metadata": {
        "id": "4bXOCJposQTN"
      },
      "source": [
        "**Tensor Initialization - Square Unit Matrix**"
      ]
    },
    {
      "cell_type": "code",
      "metadata": {
        "id": "6g6woyHhsD_A",
        "outputId": "c25d8de1-5937-4f92-aad0-36025c1d977f",
        "colab": {
          "base_uri": "https://localhost:8080/",
          "height": 87
        }
      },
      "source": [
        "x = tf.ones((3,3)) # shape\n",
        "x"
      ],
      "execution_count": 8,
      "outputs": [
        {
          "output_type": "execute_result",
          "data": {
            "text/plain": [
              "<tf.Tensor: shape=(3, 3), dtype=float32, numpy=\n",
              "array([[1., 1., 1.],\n",
              "       [1., 1., 1.],\n",
              "       [1., 1., 1.]], dtype=float32)>"
            ]
          },
          "metadata": {
            "tags": []
          },
          "execution_count": 8
        }
      ]
    },
    {
      "cell_type": "markdown",
      "metadata": {
        "id": "_KzBuQWMsWUo"
      },
      "source": [
        "**Tensor Initialization - Square Zero Matrix**"
      ]
    },
    {
      "cell_type": "code",
      "metadata": {
        "id": "oFnto5absOPp",
        "outputId": "f5d84d94-af65-47c3-e537-1cdcc7087195",
        "colab": {
          "base_uri": "https://localhost:8080/",
          "height": 87
        }
      },
      "source": [
        "x = tf.zeros((3,3))\n",
        "x"
      ],
      "execution_count": 11,
      "outputs": [
        {
          "output_type": "execute_result",
          "data": {
            "text/plain": [
              "<tf.Tensor: shape=(3, 3), dtype=float32, numpy=\n",
              "array([[0., 0., 0.],\n",
              "       [0., 0., 0.],\n",
              "       [0., 0., 0.]], dtype=float32)>"
            ]
          },
          "metadata": {
            "tags": []
          },
          "execution_count": 11
        }
      ]
    },
    {
      "cell_type": "markdown",
      "metadata": {
        "id": "Xm7nxKbVsfP6"
      },
      "source": [
        "**Tensor Initialization - Identity Matrix**"
      ]
    },
    {
      "cell_type": "code",
      "metadata": {
        "id": "FRr3CN6jsjDZ",
        "outputId": "e38eea2c-241e-4f77-be1a-7f82f35f5db2",
        "colab": {
          "base_uri": "https://localhost:8080/",
          "height": 87
        }
      },
      "source": [
        "x = tf.eye(3) # num of rows\n",
        "x"
      ],
      "execution_count": 13,
      "outputs": [
        {
          "output_type": "execute_result",
          "data": {
            "text/plain": [
              "<tf.Tensor: shape=(3, 3), dtype=float32, numpy=\n",
              "array([[1., 0., 0.],\n",
              "       [0., 1., 0.],\n",
              "       [0., 0., 1.]], dtype=float32)>"
            ]
          },
          "metadata": {
            "tags": []
          },
          "execution_count": 13
        }
      ]
    },
    {
      "cell_type": "code",
      "metadata": {
        "id": "uGNlbBg2349S"
      },
      "source": [
        ""
      ],
      "execution_count": null,
      "outputs": []
    }
  ]
}