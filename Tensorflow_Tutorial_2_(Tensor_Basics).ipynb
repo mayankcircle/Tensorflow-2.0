{
  "nbformat": 4,
  "nbformat_minor": 0,
  "metadata": {
    "colab": {
      "name": "Tensorflow Tutorial - 2 (Tensor Basics).ipynb",
      "provenance": [],
      "collapsed_sections": [],
      "authorship_tag": "ABX9TyOBetn2Rus9RES7agB/6fi4",
      "include_colab_link": true
    },
    "kernelspec": {
      "name": "python3",
      "display_name": "Python 3"
    }
  },
  "cells": [
    {
      "cell_type": "markdown",
      "metadata": {
        "id": "view-in-github",
        "colab_type": "text"
      },
      "source": [
        "<a href=\"https://colab.research.google.com/github/mayankcircle/Tensorflow-2.0/blob/main/Tensorflow_Tutorial_2_(Tensor_Basics).ipynb\" target=\"_parent\"><img src=\"https://colab.research.google.com/assets/colab-badge.svg\" alt=\"Open In Colab\"/></a>"
      ]
    },
    {
      "cell_type": "code",
      "metadata": {
        "id": "AuLABLhNnWm0"
      },
      "source": [
        "import tensorflow as tf"
      ],
      "execution_count": 1,
      "outputs": []
    },
    {
      "cell_type": "code",
      "metadata": {
        "id": "Tr3uad3jpo4e",
        "outputId": "866b0521-4a69-40ac-b1a8-659fa6ce7632",
        "colab": {
          "base_uri": "https://localhost:8080/",
          "height": 35
        }
      },
      "source": [
        "tf.__version__"
      ],
      "execution_count": null,
      "outputs": [
        {
          "output_type": "execute_result",
          "data": {
            "application/vnd.google.colaboratory.intrinsic+json": {
              "type": "string"
            },
            "text/plain": [
              "'2.3.0'"
            ]
          },
          "metadata": {
            "tags": []
          },
          "execution_count": 2
        }
      ]
    },
    {
      "cell_type": "markdown",
      "metadata": {
        "id": "6n2Ty5lvOrul"
      },
      "source": [
        "# Tensor Initialization"
      ]
    },
    {
      "cell_type": "markdown",
      "metadata": {
        "id": "UfEkGf-rpu7L"
      },
      "source": [
        "Tensor Initialization - Scalar (INT)"
      ]
    },
    {
      "cell_type": "code",
      "metadata": {
        "id": "Cde6pnRXproa",
        "outputId": "acd3e80f-8d1c-4fd2-d826-6e799bba005d",
        "colab": {
          "base_uri": "https://localhost:8080/",
          "height": 34
        }
      },
      "source": [
        "x = tf.constant(4)\n",
        "x"
      ],
      "execution_count": null,
      "outputs": [
        {
          "output_type": "execute_result",
          "data": {
            "text/plain": [
              "<tf.Tensor: shape=(), dtype=int32, numpy=4>"
            ]
          },
          "metadata": {
            "tags": []
          },
          "execution_count": 3
        }
      ]
    },
    {
      "cell_type": "markdown",
      "metadata": {
        "id": "hs1cKjnUrDvF"
      },
      "source": [
        "Tensor Initialization - Scalar (FLOAT)"
      ]
    },
    {
      "cell_type": "code",
      "metadata": {
        "id": "wiwIxD_xqRg6",
        "outputId": "a205ecde-6478-41aa-f3c7-5ea01f7ddcc2",
        "colab": {
          "base_uri": "https://localhost:8080/",
          "height": 34
        }
      },
      "source": [
        "x = tf.constant(4.0)\n",
        "x"
      ],
      "execution_count": null,
      "outputs": [
        {
          "output_type": "execute_result",
          "data": {
            "text/plain": [
              "<tf.Tensor: shape=(), dtype=float32, numpy=4.0>"
            ]
          },
          "metadata": {
            "tags": []
          },
          "execution_count": 4
        }
      ]
    },
    {
      "cell_type": "markdown",
      "metadata": {
        "id": "MUfbN0AJrKNX"
      },
      "source": [
        "**Tensor Initialization - Scalar (Recommended Way)**"
      ]
    },
    {
      "cell_type": "code",
      "metadata": {
        "id": "Cnv5rCiCqU3x",
        "outputId": "ace489d2-3397-4692-fdda-3f766d8bc568",
        "colab": {
          "base_uri": "https://localhost:8080/",
          "height": 34
        }
      },
      "source": [
        "x = tf.constant(4,shape=(1,1),dtype=tf.float32)\n",
        "x"
      ],
      "execution_count": null,
      "outputs": [
        {
          "output_type": "execute_result",
          "data": {
            "text/plain": [
              "<tf.Tensor: shape=(1, 1), dtype=float32, numpy=array([[4.]], dtype=float32)>"
            ]
          },
          "metadata": {
            "tags": []
          },
          "execution_count": 5
        }
      ]
    },
    {
      "cell_type": "markdown",
      "metadata": {
        "id": "8JiTAKhKqthI"
      },
      "source": [
        "**Tensor Initialization - 2 x 3 Matrix (Recommended Way)**"
      ]
    },
    {
      "cell_type": "code",
      "metadata": {
        "id": "BRtg00TirUBU",
        "outputId": "1274f23c-2e82-41fc-ef75-9d4ec219eea5",
        "colab": {
          "base_uri": "https://localhost:8080/",
          "height": 70
        }
      },
      "source": [
        "x = tf.constant([[1,2,3],[4,5,6]])\n",
        "x"
      ],
      "execution_count": null,
      "outputs": [
        {
          "output_type": "execute_result",
          "data": {
            "text/plain": [
              "<tf.Tensor: shape=(2, 3), dtype=int32, numpy=\n",
              "array([[1, 2, 3],\n",
              "       [4, 5, 6]], dtype=int32)>"
            ]
          },
          "metadata": {
            "tags": []
          },
          "execution_count": 6
        }
      ]
    },
    {
      "cell_type": "markdown",
      "metadata": {
        "id": "AS4a7iG_rw7k"
      },
      "source": [
        "Tensor Initialization - convert 2 x 3 matrix (list) to 3 x 2 matrix using shape argument "
      ]
    },
    {
      "cell_type": "code",
      "metadata": {
        "id": "y3LJkGOcrl8v",
        "outputId": "7c30d1dd-7831-4040-ce13-3da66d6e10bb",
        "colab": {
          "base_uri": "https://localhost:8080/",
          "height": 87
        }
      },
      "source": [
        "x = tf.constant([[1,2,3],[4,5,6]],shape=(3,2))\n",
        "x"
      ],
      "execution_count": null,
      "outputs": [
        {
          "output_type": "execute_result",
          "data": {
            "text/plain": [
              "<tf.Tensor: shape=(3, 2), dtype=int32, numpy=\n",
              "array([[1, 2],\n",
              "       [3, 4],\n",
              "       [5, 6]], dtype=int32)>"
            ]
          },
          "metadata": {
            "tags": []
          },
          "execution_count": 7
        }
      ]
    },
    {
      "cell_type": "markdown",
      "metadata": {
        "id": "4bXOCJposQTN"
      },
      "source": [
        "**Tensor Initialization - Square Unit Matrix**"
      ]
    },
    {
      "cell_type": "code",
      "metadata": {
        "id": "6g6woyHhsD_A",
        "outputId": "c25d8de1-5937-4f92-aad0-36025c1d977f",
        "colab": {
          "base_uri": "https://localhost:8080/",
          "height": 87
        }
      },
      "source": [
        "x = tf.ones((3,3)) # shape\n",
        "x"
      ],
      "execution_count": null,
      "outputs": [
        {
          "output_type": "execute_result",
          "data": {
            "text/plain": [
              "<tf.Tensor: shape=(3, 3), dtype=float32, numpy=\n",
              "array([[1., 1., 1.],\n",
              "       [1., 1., 1.],\n",
              "       [1., 1., 1.]], dtype=float32)>"
            ]
          },
          "metadata": {
            "tags": []
          },
          "execution_count": 8
        }
      ]
    },
    {
      "cell_type": "markdown",
      "metadata": {
        "id": "_KzBuQWMsWUo"
      },
      "source": [
        "**Tensor Initialization - Square Zero Matrix**"
      ]
    },
    {
      "cell_type": "code",
      "metadata": {
        "id": "oFnto5absOPp",
        "outputId": "f5d84d94-af65-47c3-e537-1cdcc7087195",
        "colab": {
          "base_uri": "https://localhost:8080/",
          "height": 87
        }
      },
      "source": [
        "x = tf.zeros((3,3))\n",
        "x"
      ],
      "execution_count": null,
      "outputs": [
        {
          "output_type": "execute_result",
          "data": {
            "text/plain": [
              "<tf.Tensor: shape=(3, 3), dtype=float32, numpy=\n",
              "array([[0., 0., 0.],\n",
              "       [0., 0., 0.],\n",
              "       [0., 0., 0.]], dtype=float32)>"
            ]
          },
          "metadata": {
            "tags": []
          },
          "execution_count": 11
        }
      ]
    },
    {
      "cell_type": "markdown",
      "metadata": {
        "id": "Xm7nxKbVsfP6"
      },
      "source": [
        "**Tensor Initialization - Identity Matrix**"
      ]
    },
    {
      "cell_type": "code",
      "metadata": {
        "id": "FRr3CN6jsjDZ",
        "outputId": "e38eea2c-241e-4f77-be1a-7f82f35f5db2",
        "colab": {
          "base_uri": "https://localhost:8080/",
          "height": 87
        }
      },
      "source": [
        "x = tf.eye(3) # num of rows\n",
        "x"
      ],
      "execution_count": null,
      "outputs": [
        {
          "output_type": "execute_result",
          "data": {
            "text/plain": [
              "<tf.Tensor: shape=(3, 3), dtype=float32, numpy=\n",
              "array([[1., 0., 0.],\n",
              "       [0., 1., 0.],\n",
              "       [0., 0., 1.]], dtype=float32)>"
            ]
          },
          "metadata": {
            "tags": []
          },
          "execution_count": 13
        }
      ]
    },
    {
      "cell_type": "markdown",
      "metadata": {
        "id": "OYXgEYgT4ZpY"
      },
      "source": [
        "**Tensor Initialization - 2 x 3 Matrix initialized from normal distribution randomly**"
      ]
    },
    {
      "cell_type": "code",
      "metadata": {
        "id": "JLj0yLlt42od",
        "outputId": "788da272-0152-4058-df63-ca571055a6ca",
        "colab": {
          "base_uri": "https://localhost:8080/",
          "height": 70
        }
      },
      "source": [
        "x = tf.random.normal((2,3),mean=0,stddev=1)\n",
        "x"
      ],
      "execution_count": null,
      "outputs": [
        {
          "output_type": "execute_result",
          "data": {
            "text/plain": [
              "<tf.Tensor: shape=(2, 3), dtype=float32, numpy=\n",
              "array([[ 0.10302696,  0.05144438,  1.5829542 ],\n",
              "       [-0.05029459,  0.29154932,  1.3752288 ]], dtype=float32)>"
            ]
          },
          "metadata": {
            "tags": []
          },
          "execution_count": 15
        }
      ]
    },
    {
      "cell_type": "markdown",
      "metadata": {
        "id": "Oet9sYWI43F4"
      },
      "source": [
        "**Tensor Initialization - 2 x 3 Matrix initialized from uniform distribution randomly**"
      ]
    },
    {
      "cell_type": "code",
      "metadata": {
        "id": "uGNlbBg2349S",
        "outputId": "47a29e8e-1b0f-4813-8409-1135d5455ef0",
        "colab": {
          "base_uri": "https://localhost:8080/",
          "height": 70
        }
      },
      "source": [
        "x = tf.random.uniform((2,3),minval=10, maxval=20) # all random values are distributed uniformly between min and max val\n",
        "x"
      ],
      "execution_count": null,
      "outputs": [
        {
          "output_type": "execute_result",
          "data": {
            "text/plain": [
              "<tf.Tensor: shape=(2, 3), dtype=float32, numpy=\n",
              "array([[11.095119, 19.778282, 11.967712],\n",
              "       [12.549023, 10.889803, 15.092335]], dtype=float32)>"
            ]
          },
          "metadata": {
            "tags": []
          },
          "execution_count": 14
        }
      ]
    },
    {
      "cell_type": "markdown",
      "metadata": {
        "id": "1m13lrBZ5714"
      },
      "source": [
        "**Tensor Initialization - using range**"
      ]
    },
    {
      "cell_type": "code",
      "metadata": {
        "id": "0SKJNV2B5Z02",
        "outputId": "859710c7-3b01-4090-9d28-6cb7c6a914de",
        "colab": {
          "base_uri": "https://localhost:8080/",
          "height": 34
        }
      },
      "source": [
        "tf.range(start=1,limit=10,delta=2) # delta is step\n",
        "# shortcut : tf.range(1,10,2)"
      ],
      "execution_count": null,
      "outputs": [
        {
          "output_type": "execute_result",
          "data": {
            "text/plain": [
              "<tf.Tensor: shape=(5,), dtype=int32, numpy=array([1, 3, 5, 7, 9], dtype=int32)>"
            ]
          },
          "metadata": {
            "tags": []
          },
          "execution_count": 17
        }
      ]
    },
    {
      "cell_type": "markdown",
      "metadata": {
        "id": "abtnlPAw6aGv"
      },
      "source": [
        "**Convert dtype of a tensor using cast**"
      ]
    },
    {
      "cell_type": "code",
      "metadata": {
        "id": "vHXY8sgB6FBB",
        "outputId": "20b9bbb8-8a9d-4507-c024-5a47bf8304b6",
        "colab": {
          "base_uri": "https://localhost:8080/",
          "height": 70
        }
      },
      "source": [
        "tf.cast(x, dtype=tf.float64) # out-of-place ops"
      ],
      "execution_count": null,
      "outputs": [
        {
          "output_type": "execute_result",
          "data": {
            "text/plain": [
              "<tf.Tensor: shape=(2, 3), dtype=float64, numpy=\n",
              "array([[ 0.10302696,  0.05144438,  1.58295417],\n",
              "       [-0.05029459,  0.29154932,  1.37522876]])>"
            ]
          },
          "metadata": {
            "tags": []
          },
          "execution_count": 20
        }
      ]
    },
    {
      "cell_type": "markdown",
      "metadata": {
        "id": "IqfDNQ8q7Adv"
      },
      "source": [
        "# Mathmatical Operations"
      ]
    },
    {
      "cell_type": "code",
      "metadata": {
        "id": "JDB7Ld1U7I9z"
      },
      "source": [
        "x = tf.constant([1,2,3])\n",
        "y = tf.constant([4,5,6])"
      ],
      "execution_count": 6,
      "outputs": []
    },
    {
      "cell_type": "markdown",
      "metadata": {
        "id": "TNNy7rnd7ZKl"
      },
      "source": [
        "**Elementwise Addition of Two Tensors**"
      ]
    },
    {
      "cell_type": "code",
      "metadata": {
        "id": "Gs8C7kNM7Ygv",
        "outputId": "17e31351-7001-4e63-dfde-81430b66201c",
        "colab": {
          "base_uri": "https://localhost:8080/",
          "height": 34
        }
      },
      "source": [
        "z = tf.add(x,y)\n",
        "# shortcut (Recommended Way) : z = x + y \n",
        "z"
      ],
      "execution_count": null,
      "outputs": [
        {
          "output_type": "execute_result",
          "data": {
            "text/plain": [
              "<tf.Tensor: shape=(3,), dtype=int32, numpy=array([5, 7, 9], dtype=int32)>"
            ]
          },
          "metadata": {
            "tags": []
          },
          "execution_count": 24
        }
      ]
    },
    {
      "cell_type": "markdown",
      "metadata": {
        "id": "4RCOmcCC7zmB"
      },
      "source": [
        "**Elementwise Subtraction of Two Tensors**"
      ]
    },
    {
      "cell_type": "code",
      "metadata": {
        "id": "pH8zn1S7774V",
        "outputId": "d5b39d47-83a9-49ec-fd21-f5cb48c8095e",
        "colab": {
          "base_uri": "https://localhost:8080/",
          "height": 34
        }
      },
      "source": [
        "z = tf.subtract(x,y)\n",
        "# shortcut (Recommended Way) : z = x - y \n",
        "z"
      ],
      "execution_count": null,
      "outputs": [
        {
          "output_type": "execute_result",
          "data": {
            "text/plain": [
              "<tf.Tensor: shape=(3,), dtype=int32, numpy=array([-3, -3, -3], dtype=int32)>"
            ]
          },
          "metadata": {
            "tags": []
          },
          "execution_count": 25
        }
      ]
    },
    {
      "cell_type": "markdown",
      "metadata": {
        "id": "U8GK8KQG72Sr"
      },
      "source": [
        "**Elementwise Division of Two Tensors**"
      ]
    },
    {
      "cell_type": "code",
      "metadata": {
        "id": "KnI3sz7J76AO",
        "outputId": "db4254ce-7418-48f6-cc93-ab63eaa7515f",
        "colab": {
          "base_uri": "https://localhost:8080/",
          "height": 34
        }
      },
      "source": [
        "z = tf.divide(x,y)\n",
        "# shortcut : z = x / y\n",
        "z"
      ],
      "execution_count": null,
      "outputs": [
        {
          "output_type": "execute_result",
          "data": {
            "text/plain": [
              "<tf.Tensor: shape=(3,), dtype=float64, numpy=array([0.25, 0.4 , 0.5 ])>"
            ]
          },
          "metadata": {
            "tags": []
          },
          "execution_count": 26
        }
      ]
    },
    {
      "cell_type": "markdown",
      "metadata": {
        "id": "p8-XJ7_Z8dPp"
      },
      "source": [
        "**Elementwise Multiplication of Two Tensors**"
      ]
    },
    {
      "cell_type": "code",
      "metadata": {
        "id": "4zer5Nxl8bYD",
        "outputId": "7fb2c37a-03ef-4aef-f1de-8cc08daad8b6",
        "colab": {
          "base_uri": "https://localhost:8080/",
          "height": 34
        }
      },
      "source": [
        "z = tf.multiply(x,y)\n",
        "# shortcut : z = x * y\n",
        "z"
      ],
      "execution_count": null,
      "outputs": [
        {
          "output_type": "execute_result",
          "data": {
            "text/plain": [
              "<tf.Tensor: shape=(3,), dtype=int32, numpy=array([ 4, 10, 18], dtype=int32)>"
            ]
          },
          "metadata": {
            "tags": []
          },
          "execution_count": 28
        }
      ]
    },
    {
      "cell_type": "markdown",
      "metadata": {
        "id": "w12o5Ks28jyt"
      },
      "source": [
        "**Dot Product of Two Tensors**"
      ]
    },
    {
      "cell_type": "code",
      "metadata": {
        "id": "r4koDxjh8noW",
        "outputId": "5a1bf881-5348-40eb-9e6e-f39a6d2d2481",
        "colab": {
          "base_uri": "https://localhost:8080/",
          "height": 34
        }
      },
      "source": [
        "# dot product is simple elementwise multiplication followed by summation along cols\n",
        "z = tf.tensordot(x,y,axes=1)\n",
        "z"
      ],
      "execution_count": 7,
      "outputs": [
        {
          "output_type": "execute_result",
          "data": {
            "text/plain": [
              "<tf.Tensor: shape=(), dtype=int32, numpy=32>"
            ]
          },
          "metadata": {
            "tags": []
          },
          "execution_count": 7
        }
      ]
    },
    {
      "cell_type": "code",
      "metadata": {
        "id": "OJLz9Sw2962D",
        "outputId": "ec04e153-1ff3-43f6-b7b8-0b86c51840c4",
        "colab": {
          "base_uri": "https://localhost:8080/",
          "height": 34
        }
      },
      "source": [
        "# same result can be acheived using reduce_sum() function\n",
        "z = tf.reduce_sum(x*y,axis=0)\n",
        "z"
      ],
      "execution_count": 13,
      "outputs": [
        {
          "output_type": "execute_result",
          "data": {
            "text/plain": [
              "<tf.Tensor: shape=(), dtype=int32, numpy=32>"
            ]
          },
          "metadata": {
            "tags": []
          },
          "execution_count": 13
        }
      ]
    },
    {
      "cell_type": "markdown",
      "metadata": {
        "id": "R5BbaSDnNpVC"
      },
      "source": [
        "**Matrix Multiplication of two Tensors**"
      ]
    },
    {
      "cell_type": "code",
      "metadata": {
        "id": "3RjtBRBbN_J9"
      },
      "source": [
        "x = tf.random.normal((2,3))\n",
        "y = tf.random.normal((3,4))"
      ],
      "execution_count": 16,
      "outputs": []
    },
    {
      "cell_type": "code",
      "metadata": {
        "id": "PzFEAn8TNwJf",
        "outputId": "16dd04b9-4e50-4b9d-ed2e-49540f72cb7c",
        "colab": {
          "base_uri": "https://localhost:8080/",
          "height": 87
        }
      },
      "source": [
        "z = tf.matmul(x, y) # x and y matrix dim should be conformative\n",
        "z"
      ],
      "execution_count": 17,
      "outputs": [
        {
          "output_type": "execute_result",
          "data": {
            "text/plain": [
              "<tf.Tensor: shape=(2, 4), dtype=float32, numpy=\n",
              "array([[-2.4731774 ,  1.6940482 , -3.3398454 ,  0.52422094],\n",
              "       [-1.5278528 , -1.0074003 , -2.8584425 ,  1.231631  ]],\n",
              "      dtype=float32)>"
            ]
          },
          "metadata": {
            "tags": []
          },
          "execution_count": 17
        }
      ]
    },
    {
      "cell_type": "code",
      "metadata": {
        "id": "aRPcmL_ROP5u",
        "outputId": "aedfb707-84b2-4892-9de1-00bf14ee2ef4",
        "colab": {
          "base_uri": "https://localhost:8080/",
          "height": 87
        }
      },
      "source": [
        "# or we can do this way (Recommended way)\n",
        "z = x @ y\n",
        "z"
      ],
      "execution_count": 19,
      "outputs": [
        {
          "output_type": "execute_result",
          "data": {
            "text/plain": [
              "<tf.Tensor: shape=(2, 4), dtype=float32, numpy=\n",
              "array([[-2.4731774 ,  1.6940482 , -3.3398454 ,  0.52422094],\n",
              "       [-1.5278528 , -1.0074003 , -2.8584425 ,  1.231631  ]],\n",
              "      dtype=float32)>"
            ]
          },
          "metadata": {
            "tags": []
          },
          "execution_count": 19
        }
      ]
    },
    {
      "cell_type": "markdown",
      "metadata": {
        "id": "GCknlVWJNSas"
      },
      "source": [
        "**Element-wise Exponentiation in a Tensor**"
      ]
    },
    {
      "cell_type": "code",
      "metadata": {
        "id": "0mAvdLc2NIJJ",
        "outputId": "c66b4aef-53cd-4f07-fc68-5cae06f852b6",
        "colab": {
          "base_uri": "https://localhost:8080/",
          "height": 34
        }
      },
      "source": [
        "z = x ** 5\n",
        "z"
      ],
      "execution_count": 14,
      "outputs": [
        {
          "output_type": "execute_result",
          "data": {
            "text/plain": [
              "<tf.Tensor: shape=(3,), dtype=int32, numpy=array([  1,  32, 243], dtype=int32)>"
            ]
          },
          "metadata": {
            "tags": []
          },
          "execution_count": 14
        }
      ]
    },
    {
      "cell_type": "markdown",
      "metadata": {
        "id": "1Rt-DY3aO28f"
      },
      "source": [
        "# Indexing"
      ]
    },
    {
      "cell_type": "code",
      "metadata": {
        "id": "c4kATZr6NKPH",
        "outputId": "321a9e6e-35d8-4ba6-996a-9d709d6ea4cc",
        "colab": {
          "base_uri": "https://localhost:8080/",
          "height": 34
        }
      },
      "source": [
        "x = tf.constant([0,1,2,1,2,3,3,3,1,5])\n",
        "x[:]"
      ],
      "execution_count": 22,
      "outputs": [
        {
          "output_type": "execute_result",
          "data": {
            "text/plain": [
              "<tf.Tensor: shape=(10,), dtype=int32, numpy=array([0, 1, 2, 1, 2, 3, 3, 3, 1, 5], dtype=int32)>"
            ]
          },
          "metadata": {
            "tags": []
          },
          "execution_count": 22
        }
      ]
    },
    {
      "cell_type": "code",
      "metadata": {
        "id": "QXuV2Ff5PMp6",
        "outputId": "f8646ca9-8a7d-4b3c-afcf-2d3639ec654f",
        "colab": {
          "base_uri": "https://localhost:8080/",
          "height": 34
        }
      },
      "source": [
        "x[1:]"
      ],
      "execution_count": 23,
      "outputs": [
        {
          "output_type": "execute_result",
          "data": {
            "text/plain": [
              "<tf.Tensor: shape=(9,), dtype=int32, numpy=array([1, 2, 1, 2, 3, 3, 3, 1, 5], dtype=int32)>"
            ]
          },
          "metadata": {
            "tags": []
          },
          "execution_count": 23
        }
      ]
    },
    {
      "cell_type": "code",
      "metadata": {
        "id": "YbKvplzvPQeq",
        "outputId": "771b7d36-e32e-43b2-a45a-557eaf32ca1a",
        "colab": {
          "base_uri": "https://localhost:8080/",
          "height": 34
        }
      },
      "source": [
        "x[-3:-1]"
      ],
      "execution_count": 25,
      "outputs": [
        {
          "output_type": "execute_result",
          "data": {
            "text/plain": [
              "<tf.Tensor: shape=(2,), dtype=int32, numpy=array([3, 1], dtype=int32)>"
            ]
          },
          "metadata": {
            "tags": []
          },
          "execution_count": 25
        }
      ]
    },
    {
      "cell_type": "code",
      "metadata": {
        "id": "MbdcxdtePZUV",
        "outputId": "f982ea21-662d-4273-d520-897cc91b5734",
        "colab": {
          "base_uri": "https://localhost:8080/",
          "height": 34
        }
      },
      "source": [
        "x[0:8:3]"
      ],
      "execution_count": 26,
      "outputs": [
        {
          "output_type": "execute_result",
          "data": {
            "text/plain": [
              "<tf.Tensor: shape=(3,), dtype=int32, numpy=array([0, 1, 3], dtype=int32)>"
            ]
          },
          "metadata": {
            "tags": []
          },
          "execution_count": 26
        }
      ]
    },
    {
      "cell_type": "code",
      "metadata": {
        "id": "Unq4wz4rPmHx",
        "outputId": "5f1ca3c4-1ed2-474b-c50c-4d2ea10859cc",
        "colab": {
          "base_uri": "https://localhost:8080/",
          "height": 34
        }
      },
      "source": [
        "x[::-1]"
      ],
      "execution_count": 31,
      "outputs": [
        {
          "output_type": "execute_result",
          "data": {
            "text/plain": [
              "<tf.Tensor: shape=(10,), dtype=int32, numpy=array([5, 1, 3, 3, 3, 2, 1, 2, 1, 0], dtype=int32)>"
            ]
          },
          "metadata": {
            "tags": []
          },
          "execution_count": 31
        }
      ]
    },
    {
      "cell_type": "markdown",
      "metadata": {
        "id": "VZ3AlcKJRw1L"
      },
      "source": [
        "Indexing in 2 D Tensor"
      ]
    },
    {
      "cell_type": "code",
      "metadata": {
        "id": "lvHRLiM5R4og",
        "outputId": "7c38f192-cb89-4264-dc27-2f4013bde660",
        "colab": {
          "base_uri": "https://localhost:8080/",
          "height": 70
        }
      },
      "source": [
        "y = tf.constant([[1,2,3],[4,5,6]])\n",
        "y"
      ],
      "execution_count": 34,
      "outputs": [
        {
          "output_type": "execute_result",
          "data": {
            "text/plain": [
              "<tf.Tensor: shape=(2, 3), dtype=int32, numpy=\n",
              "array([[1, 2, 3],\n",
              "       [4, 5, 6]], dtype=int32)>"
            ]
          },
          "metadata": {
            "tags": []
          },
          "execution_count": 34
        }
      ]
    },
    {
      "cell_type": "code",
      "metadata": {
        "id": "Isg2NBbrSD8d",
        "outputId": "c6ed2a92-b2de-4f42-b62e-3ea8d5033af8",
        "colab": {
          "base_uri": "https://localhost:8080/",
          "height": 34
        }
      },
      "source": [
        "# getting 1st row\n",
        "y[0]"
      ],
      "execution_count": 35,
      "outputs": [
        {
          "output_type": "execute_result",
          "data": {
            "text/plain": [
              "<tf.Tensor: shape=(3,), dtype=int32, numpy=array([1, 2, 3], dtype=int32)>"
            ]
          },
          "metadata": {
            "tags": []
          },
          "execution_count": 35
        }
      ]
    },
    {
      "cell_type": "code",
      "metadata": {
        "id": "lQIEHtqzS4qL",
        "outputId": "41a04939-f818-4b6d-98b7-c049eeb995be",
        "colab": {
          "base_uri": "https://localhost:8080/",
          "height": 34
        }
      },
      "source": [
        "# or : getting 1st row\n",
        "y[0,:]"
      ],
      "execution_count": 37,
      "outputs": [
        {
          "output_type": "execute_result",
          "data": {
            "text/plain": [
              "<tf.Tensor: shape=(3,), dtype=int32, numpy=array([1, 2, 3], dtype=int32)>"
            ]
          },
          "metadata": {
            "tags": []
          },
          "execution_count": 37
        }
      ]
    },
    {
      "cell_type": "code",
      "metadata": {
        "id": "WjofDrhwS4zJ",
        "outputId": "d3c1ee85-e79c-4896-9196-b2f74942f4d3",
        "colab": {
          "base_uri": "https://localhost:8080/",
          "height": 34
        }
      },
      "source": [
        "# getting 1st and 2nd column of 1st row\n",
        "y[0,0:2]"
      ],
      "execution_count": 38,
      "outputs": [
        {
          "output_type": "execute_result",
          "data": {
            "text/plain": [
              "<tf.Tensor: shape=(2,), dtype=int32, numpy=array([1, 2], dtype=int32)>"
            ]
          },
          "metadata": {
            "tags": []
          },
          "execution_count": 38
        }
      ]
    },
    {
      "cell_type": "markdown",
      "metadata": {
        "id": "iaeFBf1WQ3zu"
      },
      "source": [
        "**Gather Data of Specific indices in Tensor**"
      ]
    },
    {
      "cell_type": "code",
      "metadata": {
        "id": "sD7aFqGCQyRT",
        "outputId": "1e5b980f-26ef-4f0a-fff7-d7eb45d38956",
        "colab": {
          "base_uri": "https://localhost:8080/",
          "height": 34
        }
      },
      "source": [
        "# x[[0,3,4]] it will give error\n",
        "indices = tf.constant([0,3,4])\n",
        "\n",
        "tf.gather(x,indices)"
      ],
      "execution_count": 33,
      "outputs": [
        {
          "output_type": "execute_result",
          "data": {
            "text/plain": [
              "<tf.Tensor: shape=(3,), dtype=int32, numpy=array([0, 1, 2], dtype=int32)>"
            ]
          },
          "metadata": {
            "tags": []
          },
          "execution_count": 33
        }
      ]
    },
    {
      "cell_type": "markdown",
      "metadata": {
        "id": "APv5jJGsWltI"
      },
      "source": [
        "# Reshaping a Tensor"
      ]
    },
    {
      "cell_type": "code",
      "metadata": {
        "id": "gwg4BZocWwKt",
        "outputId": "88c16b74-b3cd-4950-97a2-f2b8dc68a883",
        "colab": {
          "base_uri": "https://localhost:8080/",
          "height": 34
        }
      },
      "source": [
        "x = tf.range(9)\n",
        "x"
      ],
      "execution_count": 45,
      "outputs": [
        {
          "output_type": "execute_result",
          "data": {
            "text/plain": [
              "<tf.Tensor: shape=(9,), dtype=int32, numpy=array([0, 1, 2, 3, 4, 5, 6, 7, 8], dtype=int32)>"
            ]
          },
          "metadata": {
            "tags": []
          },
          "execution_count": 45
        }
      ]
    },
    {
      "cell_type": "code",
      "metadata": {
        "id": "YYH7Nxd9WlDy",
        "outputId": "d2ac3754-0d32-4e2f-9194-82d868494f90",
        "colab": {
          "base_uri": "https://localhost:8080/",
          "height": 87
        }
      },
      "source": [
        "z = tf.reshape(x,(3,3))\n",
        "z"
      ],
      "execution_count": 46,
      "outputs": [
        {
          "output_type": "execute_result",
          "data": {
            "text/plain": [
              "<tf.Tensor: shape=(3, 3), dtype=int32, numpy=\n",
              "array([[0, 1, 2],\n",
              "       [3, 4, 5],\n",
              "       [6, 7, 8]], dtype=int32)>"
            ]
          },
          "metadata": {
            "tags": []
          },
          "execution_count": 46
        }
      ]
    },
    {
      "cell_type": "markdown",
      "metadata": {
        "id": "6o5Nw7HMXg0j"
      },
      "source": [
        "**Transpose a tensor**"
      ]
    },
    {
      "cell_type": "code",
      "metadata": {
        "id": "lTjOTlaPW_NJ",
        "outputId": "1176d532-2978-4661-c00a-ca0712935b44",
        "colab": {
          "base_uri": "https://localhost:8080/",
          "height": 87
        }
      },
      "source": [
        "zz = tf.transpose(z)\n",
        "zz"
      ],
      "execution_count": 47,
      "outputs": [
        {
          "output_type": "execute_result",
          "data": {
            "text/plain": [
              "<tf.Tensor: shape=(3, 3), dtype=int32, numpy=\n",
              "array([[0, 3, 6],\n",
              "       [1, 4, 7],\n",
              "       [2, 5, 8]], dtype=int32)>"
            ]
          },
          "metadata": {
            "tags": []
          },
          "execution_count": 47
        }
      ]
    }
  ]
}